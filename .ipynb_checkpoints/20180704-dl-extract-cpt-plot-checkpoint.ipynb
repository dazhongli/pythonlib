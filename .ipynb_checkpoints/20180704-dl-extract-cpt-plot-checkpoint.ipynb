{
 "cells": [
  {
   "cell_type": "markdown",
   "metadata": {},
   "source": [
    "# process CPT data"
   ]
  },
  {
   "cell_type": "code",
   "execution_count": 1,
   "metadata": {
    "collapsed": true
   },
   "outputs": [],
   "source": [
    "import openpyxl as xl\n",
    "import pandas as pd\n",
    "import numpy as np\n",
    "import matplotlib.pyplot as plt\n",
    "import os"
   ]
  },
  {
   "cell_type": "code",
   "execution_count": 3,
   "metadata": {
    "collapsed": true
   },
   "outputs": [],
   "source": [
    "os.chdir(r'G:\\Actual Job\\211036\\11-00 Calculations\\11-02 Seawall Design\\Post 2016 GI\\02 Sections\\CH 4500 P_C2a C108\\00-1 GI\\Excel')\n",
    "filename = \"CH4500_Cu Plots_rev09.xlsm\"\n",
    "wb = xl.load_workbook(filename,data_only=True)\n",
    "Nkt =12"
   ]
  },
  {
   "cell_type": "code",
   "execution_count": 4,
   "metadata": {
    "collapsed": true
   },
   "outputs": [],
   "source": [
    "sheetnames = wb.sheetnames\n",
    "sheetnames"
   ]
  },
  {
   "cell_type": "code",
   "execution_count": 4,
   "metadata": {
    "collapsed": true
   },
   "outputs": [],
   "source": [
    "def plot_cpt(df,pdf_file_name):\n",
    "    fig = plt.figure(figsize=(18.5, 20))\n",
    "    fig.suptitle(pdf_file_name + ' (Nkt = 12)',fontsize=40)\n",
    "    ax = fig.add_subplot(121)\n",
    "    ax2 = fig.add_subplot(122)\n",
    "    df = df.astype(float,copy = True)\n",
    "    # a temp function to reduce the ground level\n",
    "    df.dropna(subset=['Qnet'], how='all', inplace=True, axis=0)\n",
    "    Cu = df.Qnet.apply(float)/Nkt*1000\n",
    "    df['Cu']= Cu\n",
    "    ax.plot(df['Cu'].tolist(),df['Depth'].tolist())\n",
    "    ax.grid(True)\n",
    "    ax2.plot(np.array(df['Pore']),df['Depth'].tolist())\n",
    "    xstart,xend = ax.get_xlim()\n",
    "    ystart,yend = ax.get_ylim()\n",
    "    ax.xaxis.set_ticks(np.arange(-10, xend, 20))\n",
    "    ax.yaxis.set_ticks(np.arange(-35, 11.5, 2))\n",
    "    ax2.set_ylim([-35,11.5])\n",
    "    ax.set_ylim([-35,11.5])\n",
    "    ax.set_xlabel('Cu (kPa)',fontsize=12)\n",
    "    ax.set_ylabel('Elevation(mPD)',fontsize=12)\n",
    "    ax2.set_xlabel('PWP(MPa)',fontsize=12)\n",
    "    ax2.set_ylabel('Elevation(mpd)',fontsize=12)\n",
    "    ax.set_xlim([-50,300])\n",
    "    ax2.grid(True)\n",
    "    plt.savefig(r'pdf/'+pdf_file_name +'.pdf',format='pdf')"
   ]
  },
  {
   "cell_type": "code",
   "execution_count": 5,
   "metadata": {},
   "outputs": [
    {
     "name": "stdout",
     "output_type": "stream",
     "text": [
      "CH4500-CPT2 (Fugro)_19-Dec-2016(-40.996mPD)\n",
      "CH4500-CPT2(1) (Fugro)_21-Dec-2016(-40.856mPD)\n",
      "CH4500-CPT3 (Fugro)_19-Dec-2016(-45.374mPD)\n",
      "CH4500-CPT6 (Fugro)_3-Apr-2017(-36.503mPD)\n",
      "CH4500-CPT7 (Fugro)_31-Mar-2017(-46.009mPD)\n",
      "CH4500-CPT5(3) Dissip (Fugro)_10-Apr-2017(-16.057mPD)\n",
      "CH4500-CPT5(3)_1 Dissip (Fugro)_11-Apr-2017(-21.026mPD)\n",
      "CH4500-CPT5(3)_3 Dissip (Fugro)_21-Apr-2017(-29.588mPD)\n",
      "CH4500-CPT5(3)_4 (Fugro)_22-Apr-2017(-53.926mPD)\n",
      "CH4500-CPT4(1) (Fugro)_2-May-2017(-46.638mPD)\n",
      "CH4500-CPT3(1) (Fugro)_29-May-2017(-46.182mPD)\n",
      "CH4500-CPT9 (Fugro)_7-Jun-2017(-45.283mPD)\n",
      "CH4500-CPT1A (Fugro)_3-Aug-2017(-48.003mPD)\n",
      "CH4500-CPT1 (Fugro)_17-Aug-2017(-31.901mPD)\n",
      "CH4500-CPT8 (Fugro)_06-Oct-2017(-46.912mPD)\n"
     ]
    }
   ],
   "source": [
    "for sh in sheetnames:\n",
    "    ws = wb.get_sheet_by_name(sh)\n",
    "    CPT_name = ws.cell(row=19,column=6).value\n",
    "    df = pd.read_excel(filename,sheetname=sh,skiprows=46,parse_cols=np.arange(18,24))\n",
    "    df.columns = ['Qnet','Depth1','Pore','Depth2','Cu','Depth']\n",
    "    CPT_name = CPT_name.replace(':','').replace('Furgo','Fugro')\n",
    "    CPT_name = CPT_name + '(' + str(df.Depth.min())+'mPD'+')'\n",
    "    plot_cpt(df,CPT_name)\n",
    "    df.set_index('Depth',inplace=True)\n",
    "    df.to_excel(CPT_name+'.xlsx')\n",
    "    print(CPT_name)"
   ]
  }
 ],
 "metadata": {
  "kernelspec": {
   "display_name": "Python 3",
   "language": "python",
   "name": "python3"
  },
  "language_info": {
   "codemirror_mode": {
    "name": "ipython",
    "version": 3
   },
   "file_extension": ".py",
   "mimetype": "text/x-python",
   "name": "python",
   "nbconvert_exporter": "python",
   "pygments_lexer": "ipython3",
   "version": "3.6.1"
  }
 },
 "nbformat": 4,
 "nbformat_minor": 2
}
