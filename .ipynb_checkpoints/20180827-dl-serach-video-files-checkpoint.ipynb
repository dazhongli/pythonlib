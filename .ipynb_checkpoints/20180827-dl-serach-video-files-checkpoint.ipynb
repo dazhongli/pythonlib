{
 "cells": [
  {
   "cell_type": "code",
   "execution_count": null,
   "metadata": {},
   "outputs": [],
   "source": [
    "import os\n",
    "encoding = 'utf-8'"
   ]
  },
  {
   "cell_type": "code",
   "execution_count": null,
   "metadata": {},
   "outputs": [],
   "source": [
    "path = r'Y:\\Site Record Photo'\n",
    "os.chdir(path)"
   ]
  },
  {
   "cell_type": "code",
   "execution_count": 7,
   "metadata": {},
   "outputs": [],
   "source": [
    "def seach_folder(path):\n",
    "    folder_name = path.split(\"\\\\\")[-1]\n",
    "    with open(os.path.join(r'C:\\Users\\dz.li\\Desktop\\Vidoes',folder_name +'.md'),'w',encoding=encoding) as f:\n",
    "        f.write('|ID|filename|useful|remarks|lengh|\\n' + \n",
    "                 '|--|--------|------|-------|----|\\n')\n",
    "        count = 0\n",
    "        fcount = 0\n",
    "    #     import pdb; pdb.set_trace()\n",
    "        for root, dirs, files in os.walk(path, topdown=False):\n",
    "            fcount = fcount +1\n",
    "            string = 'File searched = {} : File found = {}'.format(fcount,count)\n",
    "            print(string,end=\"\\r\")\n",
    "            results = [x for x in files if x.endswith('mp4') or \n",
    "                       x.endswith('MOV') or\n",
    "                       x.endswith('mov') or\n",
    "                       x.endswith('avi') or \n",
    "                       x.endswith('MPG') or \n",
    "                       x.endswith('MTS') or \n",
    "                       x.endswith('VOB')]\n",
    "            if (len(results)>0):\n",
    "                for video in results:\n",
    "                    if float(os.path.getsize(os.path.join(root,video))/1048576)>=100:\n",
    "                        root_md = root.replace(\"(\",\"\\(\")\n",
    "                        root_md = root_md.replace(\")\",\"\\)\")\n",
    "                        string = '|{}|[{}]({})|\\'{}\\'|{:.2f}M|\\n'.format(count,video,os.path.join(root_md,video),root.replace(\"\\\\\",'_'),\n",
    "                                                                float(os.path.getsize(os.path.join(root,video))/1048576))\n",
    "                        count = count +1\n",
    "                        f.write(string)"
   ]
  },
  {
   "cell_type": "markdown",
   "metadata": {},
   "source": [
    "# Let's Surcharge the Survey Folder"
   ]
  },
  {
   "cell_type": "code",
   "execution_count": null,
   "metadata": {},
   "outputs": [
    {
     "name": "stdout",
     "output_type": "stream",
     "text": [
      "File searched = 4485 : File found = 75\r"
     ]
    }
   ],
   "source": [
    "seach_folder('Y:\\Site Record Photo')"
   ]
  },
  {
   "cell_type": "code",
   "execution_count": null,
   "metadata": {},
   "outputs": [],
   "source": []
  }
 ],
 "metadata": {
  "kernelspec": {
   "display_name": "Python 3",
   "language": "python",
   "name": "python3"
  }
 },
 "nbformat": 4,
 "nbformat_minor": 2
}
