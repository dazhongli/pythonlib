{
 "cells": [
  {
   "cell_type": "code",
   "execution_count": 1,
   "metadata": {},
   "outputs": [],
   "source": [
    "import openpyxl as xl\n",
    "from pathlib import Path\n",
    "from shutil import copyfile\n",
    "import os\n",
    "import re"
   ]
  },
  {
   "cell_type": "code",
   "execution_count": 3,
   "metadata": {},
   "outputs": [],
   "source": [
    "os.chdir(r'C:\\Users\\dz.li\\Desktop\\Vidoes\\from Keith')\n",
    "wb = xl.load_workbook('Video(20M).xlsx')"
   ]
  },
  {
   "cell_type": "code",
   "execution_count": 3,
   "metadata": {},
   "outputs": [],
   "source": [
    "ws = wb['Site Records']"
   ]
  },
  {
   "cell_type": "code",
   "execution_count": null,
   "metadata": {},
   "outputs": [],
   "source": [
    "folder = r'X:\\Public Relations\\3 - Video\\Construction Video\\RSS Drive for Construction Video\\Records'\n",
    "for i in range(1,ws.max_row):\n",
    "    if ws.cell(i,2).fill.start_color.index =='FFFFFF00':\n",
    "        source = (ws.cell(i,2).hyperlink.target.replace(\"%20\",' ').replace(\"file:///\",''))\n",
    "        source_path = Path(source)\n",
    "        dest_name = ('{} - [{}]{}'.format(source_path.name,'-'.join(re.findall(r'\\w[a-zA-Z]{3,20}|\\w[a-zA-Z]{2,20}\\d{2,3}',source)),source_path.suffix))\n",
    "        dest = os.path.join(folder,dest_name)\n",
    "        copyfile(source,dest)"
   ]
  }
 ],
 "metadata": {
  "kernelspec": {
   "display_name": "Python 3",
   "language": "python",
   "name": "python3"
  },
  "language_info": {
   "codemirror_mode": {
    "name": "ipython",
    "version": 3
   },
   "file_extension": ".py",
   "mimetype": "text/x-python",
   "name": "python",
   "nbconvert_exporter": "python",
   "pygments_lexer": "ipython3",
   "version": "3.6.5"
  }
 },
 "nbformat": 4,
 "nbformat_minor": 2
}
