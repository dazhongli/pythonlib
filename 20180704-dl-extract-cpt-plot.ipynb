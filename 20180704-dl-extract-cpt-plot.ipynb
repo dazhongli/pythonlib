{
 "cells": [
  {
   "cell_type": "markdown",
   "metadata": {},
   "source": [
    "# process CPT data"
   ]
  },
  {
   "cell_type": "code",
   "execution_count": 1,
   "metadata": {
    "collapsed": true
   },
   "outputs": [],
   "source": [
    "import openpyxl as xl\n",
    "import pandas as pd\n",
    "import numpy as np\n",
    "import matplotlib.pyplot as plt\n",
    "import os"
   ]
  },
  {
   "cell_type": "code",
   "execution_count": 37,
   "metadata": {
    "collapsed": true
   },
   "outputs": [],
   "source": [
    "os.chdir(r'G:\\Actual Job\\211036\\11-00 Calculations\\11-02 Seawall Design\\Post 2016 GI\\02 Sections\\CH 4900 P_A RM\\00-1 GI\\From Site')\n",
    "filename = \"CH4900_Plot_A.xlsm\"\n",
    "wb = xl.load_workbook(filename,data_only=True)\n",
    "Nkt =12"
   ]
  },
  {
   "cell_type": "code",
   "execution_count": 38,
   "metadata": {},
   "outputs": [],
   "source": [
    "sheetnames = wb.sheetnames\n",
    "sheetnames['CPT' in sheetnames]\n",
    "sheetnames= [x for x in sheetnames if 'CPT' in x ]"
   ]
  },
  {
   "cell_type": "code",
   "execution_count": 39,
   "metadata": {
    "collapsed": true
   },
   "outputs": [],
   "source": [
    "def plot_cpt(df,pdf_file_name):\n",
    "    fig = plt.figure(figsize=(18.5, 20))\n",
    "    fig.suptitle(pdf_file_name + ' (Nkt = 12)',fontsize=40)\n",
    "    ax = fig.add_subplot(121)\n",
    "    ax2 = fig.add_subplot(122)\n",
    "    df = df.astype(float,copy = True)\n",
    "    # a temp function to reduce the ground level\n",
    "    df.dropna(subset=['Qnet'], how='all', inplace=True, axis=0)\n",
    "    Cu = df.Qnet.apply(float)/Nkt*1000\n",
    "    df['Cu']= Cu\n",
    "    ax.plot(df['Cu'].tolist(),df['Depth'].tolist())\n",
    "    ax.grid(True)\n",
    "    ax2.plot(np.array(df['Pore']),df['Depth'].tolist())\n",
    "    xstart,xend = ax.get_xlim()\n",
    "    ystart,yend = ax.get_ylim()\n",
    "    ax.xaxis.set_ticks(np.arange(-10, xend, 20))\n",
    "    ax.yaxis.set_ticks(np.arange(-35, 11.5, 2))\n",
    "    ax2.set_ylim([-35,11.5])\n",
    "    ax.set_ylim([-35,11.5])\n",
    "    ax.set_xlabel('Cu (kPa)',fontsize=12)\n",
    "    ax.set_ylabel('Elevation(mPD)',fontsize=12)\n",
    "    ax2.set_xlabel('PWP(MPa)',fontsize=12)\n",
    "    ax2.set_ylabel('Elevation(mpd)',fontsize=12)\n",
    "    ax.set_xlim([-50,300])\n",
    "    ax2.grid(True)\n",
    "    if not os.path.exists(r'./pdf'):\n",
    "        os.makedirs(r'./pdf')\n",
    "    plt.savefig(r'./pdf/'+pdf_file_name +'.pdf',format='pdf')"
   ]
  },
  {
   "cell_type": "code",
   "execution_count": 40,
   "metadata": {},
   "outputs": [
    {
     "name": "stderr",
     "output_type": "stream",
     "text": [
      "C:\\Users\\dazhong.li\\AppData\\Local\\Continuum\\Anaconda3\\lib\\site-packages\\matplotlib\\pyplot.py:524: RuntimeWarning: More than 20 figures have been opened. Figures created through the pyplot interface (`matplotlib.pyplot.figure`) are retained until explicitly closed and may consume too much memory. (To control this warning, see the rcParam `figure.max_open_warning`).\n",
      "  max_open_warning, RuntimeWarning)\n"
     ]
    },
    {
     "name": "stdout",
     "output_type": "stream",
     "text": [
      "CH4900-CPT2 (Fugro)_25-Nov-2016[-40.853mPD]\n",
      "CH4900-CPT3 (Fugro)_19-Oct-2016[-2.38mPD]\n",
      "CH4900-CPT3(1) Dissip (Fugro)_05-Dec-2016[-17.216mPD]\n",
      "CH4900-CPT3(1)_1 Dissip (Fugro)_06-Dec-2016[-22.212mPD]\n",
      "CH4900-CPT3(1)_2 Dissip (Fugro)_07-Dec-2016[-34.62mPD]\n",
      "CH4900-CPT4 (Fugro)_25-Nov-2016[1.449mPD]\n",
      "CH4900-CPT4(1) (Fugro)_25-Nov-2016[1.359mPD]\n",
      "CH4900-CPT4(2) (Fugro)_25-Nov-2016[1.275mPD]\n",
      "CH4900-CPT4(3) (Fugro)_25-Nov-2016[1.293mPD]\n",
      "CH4900-CPT4(4) (Fugro)_02-Dec-2016[-45.99mPD]\n",
      "CH4900-CPT1A (Fugro)_29-Jun-2017[-35.994mPD]\n",
      "CH4900-CPT1 (Fugro)_28-Jul-2017[-33.759mPD]\n"
     ]
    }
   ],
   "source": [
    "for sh in sheetnames:\n",
    "    ws = wb.get_sheet_by_name(sh)\n",
    "    CPT_name = ws.cell(row=19,column=6).value\n",
    "    df = pd.read_excel(filename,sheetname=sh,skiprows=46,parse_cols=np.arange(18,24))\n",
    "    df.columns = ['Qnet','Depth1','Pore','Depth2','Cu','Depth']\n",
    "    CPT_name = CPT_name.replace(':','').replace('Furgo','Fugro')\n",
    "    CPT_name = CPT_name + '[' + str(df.Depth.min())+'mPD'+']'\n",
    "    plot_cpt(df,CPT_name)\n",
    "    df.set_index('Depth',inplace=True)\n",
    "    if not os.path.exists(r'./xl'):\n",
    "        os.makedirs(r'./xl')\n",
    "    df.to_excel(r'./xl/'+CPT_name+'.xlsx')\n",
    "    print(CPT_name)"
   ]
  },
  {
   "cell_type": "code",
   "execution_count": null,
   "metadata": {
    "collapsed": true
   },
   "outputs": [],
   "source": []
  }
 ],
 "metadata": {
  "kernelspec": {
   "display_name": "Python 3",
   "language": "python",
   "name": "python3"
  },
  "language_info": {
   "codemirror_mode": {
    "name": "ipython",
    "version": 3
   },
   "file_extension": ".py",
   "mimetype": "text/x-python",
   "name": "python",
   "nbconvert_exporter": "python",
   "pygments_lexer": "ipython3",
   "version": "3.6.1"
  }
 },
 "nbformat": 4,
 "nbformat_minor": 2
}
