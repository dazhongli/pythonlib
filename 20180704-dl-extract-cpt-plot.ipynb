{
 "cells": [
  {
   "cell_type": "markdown",
   "metadata": {},
   "source": [
    "# process CPT data"
   ]
  },
  {
   "cell_type": "code",
   "execution_count": 1,
   "metadata": {
    "collapsed": true
   },
   "outputs": [],
   "source": [
    "import openpyxl as xl\n",
    "import pandas as pd\n",
    "import numpy as np\n",
    "import matplotlib.pyplot as plt\n",
    "import os"
   ]
  },
  {
   "cell_type": "code",
   "execution_count": 2,
   "metadata": {
    "collapsed": true
   },
   "outputs": [],
   "source": [
    "os.chdir(r'\\\\HKGNTS22\\geo\\Actual Job\\211036\\11-00 Calculations\\11-02 Seawall Design\\Post 2016 GI\\02 Sections\\CH 3450 P_E1 C083\\00-1 GI\\Excel')\n",
    "filename = \"CH3450_Cu Plots_rev03.xlsx\"\n",
    "wb = xl.load_workbook(filename,data_only=True)\n",
    "Nkt =12"
   ]
  },
  {
   "cell_type": "code",
   "execution_count": 3,
   "metadata": {
    "collapsed": true
   },
   "outputs": [],
   "source": [
    "sheetnames = wb.sheetnames\n",
    "sheetnames['CPT' in sheetnames]\n",
    "sheetnames= [x for x in sheetnames if 'CPT' in x ]"
   ]
  },
  {
   "cell_type": "code",
   "execution_count": 4,
   "metadata": {
    "collapsed": true
   },
   "outputs": [],
   "source": [
    "def plot_cpt(df,pdf_file_name):\n",
    "    fig = plt.figure(figsize=(18.5, 20))\n",
    "    fig.suptitle(pdf_file_name + ' (Nkt = 12)',fontsize=40)\n",
    "    ax = fig.add_subplot(121)\n",
    "    ax2 = fig.add_subplot(122)\n",
    "    df = df.astype(float,copy = True)\n",
    "    # a temp function to reduce the ground level\n",
    "    df.dropna(subset=['Qnet'], how='all', inplace=True, axis=0)\n",
    "    Cu = df.Qnet.apply(float)/Nkt*1000\n",
    "    df['Cu']= Cu\n",
    "    ax.plot(df['Cu'].tolist(),df['Depth'].tolist())\n",
    "    ax.grid(True)\n",
    "    ax2.plot(np.array(df['Pore']),df['Depth'].tolist())\n",
    "    xstart,xend = ax.get_xlim()\n",
    "    ystart,yend = ax.get_ylim()\n",
    "    ax.xaxis.set_ticks(np.arange(-10, xend, 20))\n",
    "    ax.yaxis.set_ticks(np.arange(-35, 11.5, 2))\n",
    "    ax2.set_ylim([-35,11.5])\n",
    "    ax.set_ylim([-35,11.5])\n",
    "    ax.set_xlabel('Cu (kPa)',fontsize=12)\n",
    "    ax.set_ylabel('Elevation(mPD)',fontsize=12)\n",
    "    ax2.set_xlabel('PWP(MPa)',fontsize=12)\n",
    "    ax2.set_ylabel('Elevation(mpd)',fontsize=12)\n",
    "    ax.set_xlim([-50,300])\n",
    "    ax2.grid(True)\n",
    "    if not os.path.exists(r'./pdf'):\n",
    "        os.makedirs(r'./pdf')\n",
    "    plt.savefig(r'./pdf/'+pdf_file_name +'.pdf',format='pdf')"
   ]
  },
  {
   "cell_type": "code",
   "execution_count": 5,
   "metadata": {},
   "outputs": [
    {
     "name": "stdout",
     "output_type": "stream",
     "text": [
      "C082_CPT_MAY (Fugro)_13-May-2016[-31.044mPD]\n",
      "C082_CPT_15m_APR (Fugro)_11-Apr-2016[-45.379mPD]\n",
      "C082_CPT_20m_APR (Fugro)_12-Apr-2016[-31.397mPD]\n",
      "C082_CPT_25m_APR (Fugro)_11-Apr-2016[-28.34mPD]\n",
      "C082_CPT_30m_APR (Fugro)_13-Apr-2016[-31.264mPD]\n",
      "C082_CPT_40m_APR (Fugro)_14-Apr-2016[-31.482mPD]\n",
      "C082-CPT-01(2) Aecom (Fugro)_5-Oct-2016[-16.98mPD]\n",
      "C082-CPT-01(3) Aecom (Fugro)_5-Oct-2016[-32.972mPD]\n",
      "C083-CPT-01-DBJV (Fugro)_16-Nov-2016[-31.92mPD]\n",
      "C083-CPT-03-DBJV (Fugro)_16-Nov-2016[3.721mPD]\n",
      "C083-CPT-03A-DBJV (Fugro)_1-Dec-2016[-32.552mPD]\n",
      "C083-CPT-02-DBJV (Fugro)_6-Dec-2016[-19.82mPD]\n",
      "C083-CPT-02(1)-DBJV (Fugro)_7-Dec-2016[-28.56mPD]\n",
      "C082-CPT-02 Aecom (Fugro)_1-Dec-2016[-28.247mPD]\n",
      "C082-CPT-03 Aecom (Fugro)_30-Nov-2016[-28.43mPD]\n",
      "C082-CPT-03B Aecom (Fugro)_9-Dec-2016[-45.24mPD]\n",
      "C083-CPT-04-DBJV (Fugro)_22-Nov-2016[-46.117mPD]\n",
      "C083-CPT-05-DBJV (Fugro)_26-Nov-2016[-32.202mPD]\n",
      "C082-CPT-06 (Fugro)_03-Jan-2017[-43.596mPD]\n",
      "C082-CPT-07 (Fugro)_06-Jan-2017[-37.81mPD]\n"
     ]
    },
    {
     "name": "stderr",
     "output_type": "stream",
     "text": [
      "C:\\Users\\dazhong.li\\AppData\\Local\\Continuum\\Anaconda3\\lib\\site-packages\\matplotlib\\pyplot.py:524: RuntimeWarning: More than 20 figures have been opened. Figures created through the pyplot interface (`matplotlib.pyplot.figure`) are retained until explicitly closed and may consume too much memory. (To control this warning, see the rcParam `figure.max_open_warning`).\n",
      "  max_open_warning, RuntimeWarning)\n"
     ]
    },
    {
     "name": "stdout",
     "output_type": "stream",
     "text": [
      "CH3450-CPT-01A(1) (Fugro)_14-Feb-2017[-32.823mPD]\n",
      "C082-CPT-13 (Fugro)_21-Feb-2017[-33.016mPD]\n",
      "C082-CPT-14 (Fugro)_9-Feb-2017[-44.451mPD]\n",
      "C082-CPT-10 (Fugro)_14-Mar-2017[-28.564mPD]\n",
      "CH3450-CPT-01 (Fugro)_5-May-2017[-31.455mPD]\n",
      "C082-CPT-12 (Fugro)_17-May-2017[-30.88mPD]\n"
     ]
    },
    {
     "ename": "ValueError",
     "evalue": "Length mismatch: Expected axis has 0 elements, new values have 6 elements",
     "output_type": "error",
     "traceback": [
      "\u001b[1;31m---------------------------------------------------------------------------\u001b[0m",
      "\u001b[1;31mValueError\u001b[0m                                Traceback (most recent call last)",
      "\u001b[1;32m<ipython-input-5-d8078eb544c0>\u001b[0m in \u001b[0;36m<module>\u001b[1;34m()\u001b[0m\n\u001b[0;32m      3\u001b[0m     \u001b[0mCPT_name\u001b[0m \u001b[1;33m=\u001b[0m \u001b[0mws\u001b[0m\u001b[1;33m.\u001b[0m\u001b[0mcell\u001b[0m\u001b[1;33m(\u001b[0m\u001b[0mrow\u001b[0m\u001b[1;33m=\u001b[0m\u001b[1;36m19\u001b[0m\u001b[1;33m,\u001b[0m\u001b[0mcolumn\u001b[0m\u001b[1;33m=\u001b[0m\u001b[1;36m6\u001b[0m\u001b[1;33m)\u001b[0m\u001b[1;33m.\u001b[0m\u001b[0mvalue\u001b[0m\u001b[1;33m\u001b[0m\u001b[0m\n\u001b[0;32m      4\u001b[0m     \u001b[0mdf\u001b[0m \u001b[1;33m=\u001b[0m \u001b[0mpd\u001b[0m\u001b[1;33m.\u001b[0m\u001b[0mread_excel\u001b[0m\u001b[1;33m(\u001b[0m\u001b[0mfilename\u001b[0m\u001b[1;33m,\u001b[0m\u001b[0msheetname\u001b[0m\u001b[1;33m=\u001b[0m\u001b[0msh\u001b[0m\u001b[1;33m,\u001b[0m\u001b[0mskiprows\u001b[0m\u001b[1;33m=\u001b[0m\u001b[1;36m46\u001b[0m\u001b[1;33m,\u001b[0m\u001b[0mparse_cols\u001b[0m\u001b[1;33m=\u001b[0m\u001b[0mnp\u001b[0m\u001b[1;33m.\u001b[0m\u001b[0marange\u001b[0m\u001b[1;33m(\u001b[0m\u001b[1;36m18\u001b[0m\u001b[1;33m,\u001b[0m\u001b[1;36m24\u001b[0m\u001b[1;33m)\u001b[0m\u001b[1;33m)\u001b[0m\u001b[1;33m\u001b[0m\u001b[0m\n\u001b[1;32m----> 5\u001b[1;33m     \u001b[0mdf\u001b[0m\u001b[1;33m.\u001b[0m\u001b[0mcolumns\u001b[0m \u001b[1;33m=\u001b[0m \u001b[1;33m[\u001b[0m\u001b[1;34m'Qnet'\u001b[0m\u001b[1;33m,\u001b[0m\u001b[1;34m'Depth1'\u001b[0m\u001b[1;33m,\u001b[0m\u001b[1;34m'Pore'\u001b[0m\u001b[1;33m,\u001b[0m\u001b[1;34m'Depth2'\u001b[0m\u001b[1;33m,\u001b[0m\u001b[1;34m'Cu'\u001b[0m\u001b[1;33m,\u001b[0m\u001b[1;34m'Depth'\u001b[0m\u001b[1;33m]\u001b[0m\u001b[1;33m\u001b[0m\u001b[0m\n\u001b[0m\u001b[0;32m      6\u001b[0m     \u001b[0mCPT_name\u001b[0m \u001b[1;33m=\u001b[0m \u001b[0mCPT_name\u001b[0m\u001b[1;33m.\u001b[0m\u001b[0mreplace\u001b[0m\u001b[1;33m(\u001b[0m\u001b[1;34m':'\u001b[0m\u001b[1;33m,\u001b[0m\u001b[1;34m''\u001b[0m\u001b[1;33m)\u001b[0m\u001b[1;33m.\u001b[0m\u001b[0mreplace\u001b[0m\u001b[1;33m(\u001b[0m\u001b[1;34m'Furgo'\u001b[0m\u001b[1;33m,\u001b[0m\u001b[1;34m'Fugro'\u001b[0m\u001b[1;33m)\u001b[0m\u001b[1;33m\u001b[0m\u001b[0m\n\u001b[0;32m      7\u001b[0m     \u001b[0mCPT_name\u001b[0m \u001b[1;33m=\u001b[0m \u001b[0mCPT_name\u001b[0m \u001b[1;33m+\u001b[0m \u001b[1;34m'['\u001b[0m \u001b[1;33m+\u001b[0m \u001b[0mstr\u001b[0m\u001b[1;33m(\u001b[0m\u001b[0mdf\u001b[0m\u001b[1;33m.\u001b[0m\u001b[0mDepth\u001b[0m\u001b[1;33m.\u001b[0m\u001b[0mmin\u001b[0m\u001b[1;33m(\u001b[0m\u001b[1;33m)\u001b[0m\u001b[1;33m)\u001b[0m\u001b[1;33m+\u001b[0m\u001b[1;34m'mPD'\u001b[0m\u001b[1;33m+\u001b[0m\u001b[1;34m']'\u001b[0m\u001b[1;33m\u001b[0m\u001b[0m\n",
      "\u001b[1;32mC:\\Users\\dazhong.li\\AppData\\Local\\Continuum\\Anaconda3\\lib\\site-packages\\pandas\\core\\generic.py\u001b[0m in \u001b[0;36m__setattr__\u001b[1;34m(self, name, value)\u001b[0m\n\u001b[0;32m   2981\u001b[0m         \u001b[1;32mtry\u001b[0m\u001b[1;33m:\u001b[0m\u001b[1;33m\u001b[0m\u001b[0m\n\u001b[0;32m   2982\u001b[0m             \u001b[0mobject\u001b[0m\u001b[1;33m.\u001b[0m\u001b[0m__getattribute__\u001b[0m\u001b[1;33m(\u001b[0m\u001b[0mself\u001b[0m\u001b[1;33m,\u001b[0m \u001b[0mname\u001b[0m\u001b[1;33m)\u001b[0m\u001b[1;33m\u001b[0m\u001b[0m\n\u001b[1;32m-> 2983\u001b[1;33m             \u001b[1;32mreturn\u001b[0m \u001b[0mobject\u001b[0m\u001b[1;33m.\u001b[0m\u001b[0m__setattr__\u001b[0m\u001b[1;33m(\u001b[0m\u001b[0mself\u001b[0m\u001b[1;33m,\u001b[0m \u001b[0mname\u001b[0m\u001b[1;33m,\u001b[0m \u001b[0mvalue\u001b[0m\u001b[1;33m)\u001b[0m\u001b[1;33m\u001b[0m\u001b[0m\n\u001b[0m\u001b[0;32m   2984\u001b[0m         \u001b[1;32mexcept\u001b[0m \u001b[0mAttributeError\u001b[0m\u001b[1;33m:\u001b[0m\u001b[1;33m\u001b[0m\u001b[0m\n\u001b[0;32m   2985\u001b[0m             \u001b[1;32mpass\u001b[0m\u001b[1;33m\u001b[0m\u001b[0m\n",
      "\u001b[1;32mpandas\\_libs\\src\\properties.pyx\u001b[0m in \u001b[0;36mpandas._libs.lib.AxisProperty.__set__ (pandas\\_libs\\lib.c:45103)\u001b[1;34m()\u001b[0m\n",
      "\u001b[1;32mC:\\Users\\dazhong.li\\AppData\\Local\\Continuum\\Anaconda3\\lib\\site-packages\\pandas\\core\\generic.py\u001b[0m in \u001b[0;36m_set_axis\u001b[1;34m(self, axis, labels)\u001b[0m\n\u001b[0;32m    469\u001b[0m \u001b[1;33m\u001b[0m\u001b[0m\n\u001b[0;32m    470\u001b[0m     \u001b[1;32mdef\u001b[0m \u001b[0m_set_axis\u001b[0m\u001b[1;33m(\u001b[0m\u001b[0mself\u001b[0m\u001b[1;33m,\u001b[0m \u001b[0maxis\u001b[0m\u001b[1;33m,\u001b[0m \u001b[0mlabels\u001b[0m\u001b[1;33m)\u001b[0m\u001b[1;33m:\u001b[0m\u001b[1;33m\u001b[0m\u001b[0m\n\u001b[1;32m--> 471\u001b[1;33m         \u001b[0mself\u001b[0m\u001b[1;33m.\u001b[0m\u001b[0m_data\u001b[0m\u001b[1;33m.\u001b[0m\u001b[0mset_axis\u001b[0m\u001b[1;33m(\u001b[0m\u001b[0maxis\u001b[0m\u001b[1;33m,\u001b[0m \u001b[0mlabels\u001b[0m\u001b[1;33m)\u001b[0m\u001b[1;33m\u001b[0m\u001b[0m\n\u001b[0m\u001b[0;32m    472\u001b[0m         \u001b[0mself\u001b[0m\u001b[1;33m.\u001b[0m\u001b[0m_clear_item_cache\u001b[0m\u001b[1;33m(\u001b[0m\u001b[1;33m)\u001b[0m\u001b[1;33m\u001b[0m\u001b[0m\n\u001b[0;32m    473\u001b[0m \u001b[1;33m\u001b[0m\u001b[0m\n",
      "\u001b[1;32mC:\\Users\\dazhong.li\\AppData\\Local\\Continuum\\Anaconda3\\lib\\site-packages\\pandas\\core\\internals.py\u001b[0m in \u001b[0;36mset_axis\u001b[1;34m(self, axis, new_labels)\u001b[0m\n\u001b[0;32m   2834\u001b[0m             raise ValueError('Length mismatch: Expected axis has %d elements, '\n\u001b[0;32m   2835\u001b[0m                              \u001b[1;34m'new values have %d elements'\u001b[0m \u001b[1;33m%\u001b[0m\u001b[1;33m\u001b[0m\u001b[0m\n\u001b[1;32m-> 2836\u001b[1;33m                              (old_len, new_len))\n\u001b[0m\u001b[0;32m   2837\u001b[0m \u001b[1;33m\u001b[0m\u001b[0m\n\u001b[0;32m   2838\u001b[0m         \u001b[0mself\u001b[0m\u001b[1;33m.\u001b[0m\u001b[0maxes\u001b[0m\u001b[1;33m[\u001b[0m\u001b[0maxis\u001b[0m\u001b[1;33m]\u001b[0m \u001b[1;33m=\u001b[0m \u001b[0mnew_labels\u001b[0m\u001b[1;33m\u001b[0m\u001b[0m\n",
      "\u001b[1;31mValueError\u001b[0m: Length mismatch: Expected axis has 0 elements, new values have 6 elements"
     ]
    }
   ],
   "source": [
    "for sh in sheetnames:\n",
    "    ws = wb.get_sheet_by_name(sh)\n",
    "    CPT_name = ws.cell(row=19,column=6).value\n",
    "    df = pd.read_excel(filename,sheetname=sh,skiprows=46,parse_cols=np.arange(18,24))\n",
    "    df.columns = ['Qnet','Depth1','Pore','Depth2','Cu','Depth']\n",
    "    CPT_name = CPT_name.replace(':','').replace('Furgo','Fugro')\n",
    "    CPT_name = CPT_name + '[' + str(df.Depth.min())+'mPD'+']'\n",
    "    plot_cpt(df,CPT_name)\n",
    "    df.set_index('Depth',inplace=True)\n",
    "    if not os.path.exists(r'./xl'):\n",
    "        os.makedirs(r'./xl')\n",
    "    df.to_excel(r'./xl/'+CPT_name+'.xlsx')\n",
    "    print(CPT_name)"
   ]
  },
  {
   "cell_type": "code",
   "execution_count": null,
   "metadata": {
    "collapsed": true
   },
   "outputs": [],
   "source": []
  }
 ],
 "metadata": {
  "kernelspec": {
   "display_name": "Python 3",
   "language": "python",
   "name": "python3"
  },
  "language_info": {
   "codemirror_mode": {
    "name": "ipython",
    "version": 3
   },
   "file_extension": ".py",
   "mimetype": "text/x-python",
   "name": "python",
   "nbconvert_exporter": "python",
   "pygments_lexer": "ipython3",
   "version": "3.6.1"
  }
 },
 "nbformat": 4,
 "nbformat_minor": 2
}
