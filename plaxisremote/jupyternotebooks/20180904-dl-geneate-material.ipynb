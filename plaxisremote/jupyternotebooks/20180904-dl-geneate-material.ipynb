{
 "cells": [
  {
   "cell_type": "code",
   "execution_count": 1,
   "metadata": {},
   "outputs": [],
   "source": [
    "import os\n",
    "import plaxisremote.plaxisremote as plx"
   ]
  },
  {
   "cell_type": "code",
   "execution_count": 2,
   "metadata": {},
   "outputs": [],
   "source": [
    "output_port = 10000"
   ]
  },
  {
   "cell_type": "code",
   "execution_count": 3,
   "metadata": {},
   "outputs": [],
   "source": [
    "plx_out = plx.Output(output_port)"
   ]
  },
  {
   "cell_type": "code",
   "execution_count": 4,
   "metadata": {},
   "outputs": [],
   "source": [
    "g_o = plx_out.g_o"
   ]
  },
  {
   "cell_type": "code",
   "execution_count": 11,
   "metadata": {},
   "outputs": [],
   "source": [
    "Phases = g_o.Phases[:]"
   ]
  },
  {
   "cell_type": "code",
   "execution_count": 24,
   "metadata": {},
   "outputs": [
    {
     "name": "stdout",
     "output_type": "stream",
     "text": [
      "Initial phase [InitialPhase]\n",
      "Set 0 [Phase_1]\n",
      "Install SC [Phase_16]\n",
      "Reset & Install Cell [Phase_17]\n",
      "Fill inside cell [Phase_18]\n",
      "Install BD [Phase_19]\n",
      "Berm 1 & Fill 3.5 & Int Str inside cell [Phase_20]\n",
      "Settle 1 [Phase_21]\n",
      "Berm 2 & Fill 8.5 far behind & Entirely Int Strength [Phase_22]\n",
      "Capping Beam [Phase_23]\n",
      "Install Jet G & sur 8.5/11.5 [Phase_24]\n",
      "Entirely Sur 11.5 [Phase_25]\n",
      "Settle 2 & Raise WL [Phase_26]\n",
      "Remove Sur [Phase_27]\n",
      "Permanent Undrained Case [Phase_28]\n",
      "FOS - Permanent Undrained Case [Phase_29]\n",
      "Long Term Drained Case [Phase_30]\n",
      "FOS - Long Term Drained Case [Phase_31]\n",
      "Long Term Undrained Case [Phase_4]\n",
      "FOS - Long Term Undrained Case [Phase_5]\n",
      "Permanent Case [20+1.5z] [Phase_32]\n",
      "FOS [Phase_2]\n"
     ]
    }
   ],
   "source": [
    "for Phase in Phases: \n",
    "    print(Phase.Identification)"
   ]
  },
  {
   "cell_type": "code",
   "execution_count": null,
   "metadata": {},
   "outputs": [],
   "source": []
  }
 ],
 "metadata": {
  "kernelspec": {
   "display_name": "Python 3",
   "language": "python",
   "name": "python3"
  },
  "language_info": {
   "codemirror_mode": {
    "name": "ipython",
    "version": 3
   },
   "file_extension": ".py",
   "mimetype": "text/x-python",
   "name": "python",
   "nbconvert_exporter": "python",
   "pygments_lexer": "ipython3",
   "version": "3.6.5"
  }
 },
 "nbformat": 4,
 "nbformat_minor": 2
}
