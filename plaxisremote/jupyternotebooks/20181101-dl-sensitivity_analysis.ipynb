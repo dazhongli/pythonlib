{
 "cells": [
  {
   "cell_type": "markdown",
   "metadata": {},
   "source": [
    "# Sensitivity Analysis on the Strength Profiles"
   ]
  },
  {
   "cell_type": "code",
   "execution_count": 1,
   "metadata": {},
   "outputs": [],
   "source": [
    "%matplotlib inline\n",
    "\n",
    "import numpy as np\n",
    "import pandas as pd"
   ]
  },
  {
   "cell_type": "code",
   "execution_count": 2,
   "metadata": {},
   "outputs": [],
   "source": [
    "#Connect Plaxis and Jupyter Notebook\n",
    "import imp\n",
    "# plaxis_path = r'C:\\Program Files (x86)\\Plaxis\\PLAXIS 2D v2016'\n",
    "plaxis_path =r'C:\\Program Files\\Plaxis\\PLAXIS 2D'\n",
    "found_module = imp.find_module('plxscripting', [plaxis_path])\n",
    "plxscripting = imp.load_module('plxscripting', *found_module)\n",
    "from plxscripting.easy import *\n",
    "port_in = 10000\n",
    "s_i, g_i = new_server('localhost', port_in)   # define input server port\n",
    "\n",
    "port_out = 10001\n",
    "s_o, g_o = new_server('localhost', port_out)   # define output server port"
   ]
  },
  {
   "cell_type": "code",
   "execution_count": 31,
   "metadata": {},
   "outputs": [],
   "source": [
    "g_i.gotostructures()\n",
    "result = g_i.line(-30,-4.5,-30,-22.5)\n",
    "L2 = g_i.line(-30,)"
   ]
  },
  {
   "cell_type": "code",
   "execution_count": 46,
   "metadata": {},
   "outputs": [],
   "source": [
    "l2 = g_i.line(-30,-11,0,-11)"
   ]
  },
  {
   "cell_type": "code",
   "execution_count": 47,
   "metadata": {},
   "outputs": [
    {
     "data": {
      "text/plain": [
       "'OK'"
      ]
     },
     "execution_count": 47,
     "metadata": {},
     "output_type": "execute_result"
    }
   ],
   "source": [
    "g_i.gotomesh()"
   ]
  },
  {
   "cell_type": "code",
   "execution_count": 50,
   "metadata": {},
   "outputs": [
    {
     "ename": "PlxScriptingError",
     "evalue": "Unsuccessful command:\nMeshing failed with the following error:\r\nMesh output file not found",
     "output_type": "error",
     "traceback": [
      "\u001b[1;31m---------------------------------------------------------------------------\u001b[0m",
      "\u001b[1;31mPlxScriptingError\u001b[0m                         Traceback (most recent call last)",
      "\u001b[1;32m<ipython-input-50-85a0a27d8067>\u001b[0m in \u001b[0;36m<module>\u001b[1;34m()\u001b[0m\n\u001b[1;32m----> 1\u001b[1;33m \u001b[0mg_i\u001b[0m\u001b[1;33m.\u001b[0m\u001b[0mmesh\u001b[0m\u001b[1;33m(\u001b[0m\u001b[1;36m0.06\u001b[0m\u001b[1;33m)\u001b[0m\u001b[1;33m\u001b[0m\u001b[0m\n\u001b[0m",
      "\u001b[1;32mC:\\Program Files\\Plaxis\\PLAXIS 2D\\plxscripting\\plxproxy.py\u001b[0m in \u001b[0;36m__call__\u001b[1;34m(self, *params)\u001b[0m\n\u001b[0;32m    278\u001b[0m         \"\"\"\n\u001b[0;32m    279\u001b[0m         return self._server.call_plx_object_method(\n\u001b[1;32m--> 280\u001b[1;33m             self._proxy_object, self._method_name, params)\n\u001b[0m\u001b[0;32m    281\u001b[0m \u001b[1;33m\u001b[0m\u001b[0m\n\u001b[0;32m    282\u001b[0m \u001b[1;33m\u001b[0m\u001b[0m\n",
      "\u001b[1;32mC:\\Program Files\\Plaxis\\PLAXIS 2D\\plxscripting\\server.py\u001b[0m in \u001b[0;36mcall_plx_object_method\u001b[1;34m(self, proxy_obj, method_name, params)\u001b[0m\n\u001b[0;32m    568\u001b[0m             proxy_obj, method_name, params)\n\u001b[0;32m    569\u001b[0m \u001b[1;33m\u001b[0m\u001b[0m\n\u001b[1;32m--> 570\u001b[1;33m         \u001b[1;32mreturn\u001b[0m \u001b[0mself\u001b[0m\u001b[1;33m.\u001b[0m\u001b[0mcall_and_handle_command\u001b[0m\u001b[1;33m(\u001b[0m\u001b[0mmethod_call_cmd\u001b[0m\u001b[1;33m)\u001b[0m\u001b[1;33m\u001b[0m\u001b[0m\n\u001b[0m\u001b[0;32m    571\u001b[0m \u001b[1;33m\u001b[0m\u001b[0m\n\u001b[0;32m    572\u001b[0m     \u001b[1;32mdef\u001b[0m \u001b[0mcall_and_handle_command\u001b[0m\u001b[1;33m(\u001b[0m\u001b[0mself\u001b[0m\u001b[1;33m,\u001b[0m \u001b[0mcommand\u001b[0m\u001b[1;33m)\u001b[0m\u001b[1;33m:\u001b[0m\u001b[1;33m\u001b[0m\u001b[0m\n",
      "\u001b[1;32mC:\\Program Files\\Plaxis\\PLAXIS 2D\\plxscripting\\server.py\u001b[0m in \u001b[0;36mcall_and_handle_command\u001b[1;34m(self, command)\u001b[0m\n\u001b[0;32m    575\u001b[0m         \u001b[0mresource\u001b[0m\u001b[1;33m.\u001b[0m \u001b[0mReturns\u001b[0m \u001b[0mthe\u001b[0m \u001b[0mhandled\u001b[0m \u001b[0mresponse\u001b[0m \u001b[0mto\u001b[0m \u001b[0mthat\u001b[0m \u001b[0mcommand\u001b[0m\u001b[1;33m.\u001b[0m\u001b[1;33m\u001b[0m\u001b[0m\n\u001b[0;32m    576\u001b[0m         \"\"\"\n\u001b[1;32m--> 577\u001b[1;33m         \u001b[1;32mreturn\u001b[0m \u001b[0mself\u001b[0m\u001b[1;33m.\u001b[0m\u001b[0mcall_and_handle_commands\u001b[0m\u001b[1;33m(\u001b[0m\u001b[0mcommand\u001b[0m\u001b[1;33m)\u001b[0m\u001b[1;33m[\u001b[0m\u001b[1;36m0\u001b[0m\u001b[1;33m]\u001b[0m\u001b[1;33m\u001b[0m\u001b[0m\n\u001b[0m\u001b[0;32m    578\u001b[0m \u001b[1;33m\u001b[0m\u001b[0m\n\u001b[0;32m    579\u001b[0m     \u001b[1;32mdef\u001b[0m \u001b[0mcall_and_handle_commands\u001b[0m\u001b[1;33m(\u001b[0m\u001b[0mself\u001b[0m\u001b[1;33m,\u001b[0m \u001b[1;33m*\u001b[0m\u001b[0mcommands\u001b[0m\u001b[1;33m)\u001b[0m\u001b[1;33m:\u001b[0m\u001b[1;33m\u001b[0m\u001b[0m\n",
      "\u001b[1;32mC:\\Program Files\\Plaxis\\PLAXIS 2D\\plxscripting\\server.py\u001b[0m in \u001b[0;36mcall_and_handle_commands\u001b[1;34m(self, *commands)\u001b[0m\n\u001b[0;32m    585\u001b[0m         return [\n\u001b[0;32m    586\u001b[0m             \u001b[0mself\u001b[0m\u001b[1;33m.\u001b[0m\u001b[0mresult_handler\u001b[0m\u001b[1;33m.\u001b[0m\u001b[0mhandle_commands_response\u001b[0m\u001b[1;33m(\u001b[0m\u001b[0mr\u001b[0m\u001b[1;33m[\u001b[0m\u001b[0mJSON_FEEDBACK\u001b[0m\u001b[1;33m]\u001b[0m\u001b[1;33m)\u001b[0m\u001b[1;33m\u001b[0m\u001b[0m\n\u001b[1;32m--> 587\u001b[1;33m             for r in response]\n\u001b[0m\u001b[0;32m    588\u001b[0m \u001b[1;33m\u001b[0m\u001b[0m\n\u001b[0;32m    589\u001b[0m     \u001b[1;32mdef\u001b[0m \u001b[0mcall_commands\u001b[0m\u001b[1;33m(\u001b[0m\u001b[0mself\u001b[0m\u001b[1;33m,\u001b[0m \u001b[1;33m*\u001b[0m\u001b[0mcommands\u001b[0m\u001b[1;33m)\u001b[0m\u001b[1;33m:\u001b[0m\u001b[1;33m\u001b[0m\u001b[0m\n",
      "\u001b[1;32mC:\\Program Files\\Plaxis\\PLAXIS 2D\\plxscripting\\server.py\u001b[0m in \u001b[0;36m<listcomp>\u001b[1;34m(.0)\u001b[0m\n\u001b[0;32m    585\u001b[0m         return [\n\u001b[0;32m    586\u001b[0m             \u001b[0mself\u001b[0m\u001b[1;33m.\u001b[0m\u001b[0mresult_handler\u001b[0m\u001b[1;33m.\u001b[0m\u001b[0mhandle_commands_response\u001b[0m\u001b[1;33m(\u001b[0m\u001b[0mr\u001b[0m\u001b[1;33m[\u001b[0m\u001b[0mJSON_FEEDBACK\u001b[0m\u001b[1;33m]\u001b[0m\u001b[1;33m)\u001b[0m\u001b[1;33m\u001b[0m\u001b[0m\n\u001b[1;32m--> 587\u001b[1;33m             for r in response]\n\u001b[0m\u001b[0;32m    588\u001b[0m \u001b[1;33m\u001b[0m\u001b[0m\n\u001b[0;32m    589\u001b[0m     \u001b[1;32mdef\u001b[0m \u001b[0mcall_commands\u001b[0m\u001b[1;33m(\u001b[0m\u001b[0mself\u001b[0m\u001b[1;33m,\u001b[0m \u001b[1;33m*\u001b[0m\u001b[0mcommands\u001b[0m\u001b[1;33m)\u001b[0m\u001b[1;33m:\u001b[0m\u001b[1;33m\u001b[0m\u001b[0m\n",
      "\u001b[1;32mC:\\Program Files\\Plaxis\\PLAXIS 2D\\plxscripting\\server.py\u001b[0m in \u001b[0;36mhandle_commands_response\u001b[1;34m(self, commands_response)\u001b[0m\n\u001b[0;32m    183\u001b[0m         \u001b[1;32melse\u001b[0m\u001b[1;33m:\u001b[0m\u001b[1;33m\u001b[0m\u001b[0m\n\u001b[0;32m    184\u001b[0m             raise PlxScriptingError(\"Unsuccessful command:\\n\" +\n\u001b[1;32m--> 185\u001b[1;33m                                     commands_response[JSON_EXTRAINFO])\n\u001b[0m\u001b[0;32m    186\u001b[0m \u001b[1;33m\u001b[0m\u001b[0m\n\u001b[0;32m    187\u001b[0m     \u001b[1;32mdef\u001b[0m \u001b[0mhandle_members_response\u001b[0m\u001b[1;33m(\u001b[0m\u001b[0mself\u001b[0m\u001b[1;33m,\u001b[0m \u001b[0mmembers_response\u001b[0m\u001b[1;33m,\u001b[0m \u001b[0mproxy_obj\u001b[0m\u001b[1;33m)\u001b[0m\u001b[1;33m:\u001b[0m\u001b[1;33m\u001b[0m\u001b[0m\n",
      "\u001b[1;31mPlxScriptingError\u001b[0m: Unsuccessful command:\nMeshing failed with the following error:\r\nMesh output file not found"
     ]
    }
   ],
   "source": [
    "g_i.mesh(0.06)"
   ]
  },
  {
   "cell_type": "code",
   "execution_count": null,
   "metadata": {},
   "outputs": [],
   "source": [
    "soil_mat = g_i.MDDR_FC_Per55155z_c #the target material"
   ]
  },
  {
   "cell_type": "code",
   "execution_count": 86,
   "metadata": {},
   "outputs": [],
   "source": [
    "#before we run any sensitivity analysis, let's keep a records of the original data before we do the sensitivity\n",
    "original_soil_pro = {}\n",
    "original_soil_pro['cref'] = soil_mat.cref.value\n",
    "original_soil_pro['cinc'] = soil_mat.cinc.value\n",
    "original_soil_pro['yref'] = soil_mat.verticalref.value"
   ]
  },
  {
   "cell_type": "code",
   "execution_count": 94,
   "metadata": {},
   "outputs": [
    {
     "data": {
      "image/png": "[encoded data removed]",
      "text/plain": [
       "<Figure size 1152x864 with 1 Axes>"
      ]
     },
     "metadata": {},
     "output_type": "display_data"
    }
   ],
   "source": [
    "fig = plt.figure(figsize =(16, 12))\n",
    "ax = fig.add_subplot(111)\n",
    "ax.set_title('Sensitivity Analysis for Untreated area')\n",
    "ax.set_xlabel('Strength')\n",
    "ax.set_ylabel('FOS')\n",
    "ax.grid()"
   ]
  },
  {
   "cell_type": "code",
   "execution_count": 99,
   "metadata": {},
   "outputs": [
    {
     "name": "stdout",
     "output_type": "stream",
     "text": [
      "cref = 4.0 - FOS = 1.3149619485626\n",
      "cref = 4.5 - FOS = 1.31921692327736\n",
      "cref = 5.0 - FOS = 1.32590986246314\n",
      "cref = 5.5 - FOS = 1.32504825836007\n",
      "cref = 6.0 - FOS = 1.33120189342919\n",
      "cref = 6.5 - FOS = 1.33428023599463\n"
     ]
    }
   ],
   "source": [
    "# define a 2-d array that holds the data \n",
    "FOS = []\n",
    "for attempt in [4.0,4.5,5.0,5.5,6.0,6.5]:\n",
    "    soil_mat.cref=attempt\n",
    "    soil_mat.E = attempt* 42.0\n",
    "    g_i.gotostages()\n",
    "    g_i.Phase_11.ShouldCalculate =True\n",
    "    g_i.Phase_16.ShouldCalculate =True\n",
    "    g_i.calculate()\n",
    "    port = g_i.view(g_i.Phase_16)\n",
    "    s_o, g_o = new_server('localhost', port)\n",
    "    FOS.append([attempt,g_o.Phase_16.Info.SumMsf.value])\n",
    "    print('cref = {} - FOS = {}'.format(attempt,g_o.Phase_16.Info.SumMsf.value))\n"
   ]
  },
  {
   "cell_type": "code",
   "execution_count": 102,
   "metadata": {},
   "outputs": [],
   "source": [
    "FOS = np.array(FOS)"
   ]
  },
  {
   "cell_type": "code",
   "execution_count": 118,
   "metadata": {},
   "outputs": [],
   "source": [
    "ax.scatter(FOS[:,0],FOS[:,1])\n",
    "ax.set_xlabel('$c_{varies}$ +1.55z(z=0 at -4.5mPD)') \n",
    "ax.set_xlim([3,8])\n",
    "ax.set_ylim([1.1,1.5])\n",
    "ax.set_title('Sensitivity Analysis for Untreated area - CH1150')\n",
    "fig.savefig('sensitivity_untreated.pdf')"
   ]
  },
  {
   "cell_type": "code",
   "execution_count": 119,
   "metadata": {},
   "outputs": [
    {
     "data": {
      "text/plain": [
       "'C:\\\\Users\\\\dazhong.li\\\\OneDrive\\\\05Research\\\\codes\\\\01Python\\\\pythonlib\\\\plaxisremote\\\\jupyternotebooks'"
      ]
     },
     "execution_count": 119,
     "metadata": {},
     "output_type": "execute_result"
    }
   ],
   "source": [
    "%pwd"
   ]
  },
  {
   "cell_type": "code",
   "execution_count": null,
   "metadata": {},
   "outputs": [],
   "source": []
  }
 ],
 "metadata": {
  "kernelspec": {
   "display_name": "Python 3",
   "language": "python",
   "name": "python3"
  },
  "language_info": {
   "codemirror_mode": {
    "name": "ipython",
    "version": 3
   },
   "file_extension": ".py",
   "mimetype": "text/x-python",
   "name": "python",
   "nbconvert_exporter": "python",
   "pygments_lexer": "ipython3",
   "version": "3.6.5"
  }
 },
 "nbformat": 4,
 "nbformat_minor": 2
}
