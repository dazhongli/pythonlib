{
 "cells": [
  {
   "cell_type": "markdown",
   "metadata": {},
   "source": [
    "# Calculate the residual of yield function for stone columns"
   ]
  },
  {
   "cell_type": "code",
   "execution_count": 1,
   "metadata": {},
   "outputs": [],
   "source": [
    "#load in the path to the Plaxis \n",
    "import imp\n",
    "import sys\n",
    "sys.path.append(r'C:\\Users\\dazhong.li\\OneDrive\\05Research\\00Codes\\01Python\\pythonlib\\plaxisremote')\n",
    "from plaxisremote import Output\n",
    "import plaxisremote as plxrmt\n",
    "import os\n",
    "import numpy as np\n",
    "import pandas as pd\n",
    "from plot import paper\n",
    "#$from scipy.interpolate import interp2d\n",
    "import matplotlib.pyplot as plt\n",
    "from PIL import Image\n",
    "from IPython.display import Image\n",
    "import seaborn as sns\n",
    "%matplotlib inline"
   ]
  },
  {
   "cell_type": "code",
   "execution_count": 3,
   "metadata": {},
   "outputs": [],
   "source": [
    "port_o = 10001\n",
    "port_I = 10000\n",
    "plx_o = Output(port_o)\n",
    "plx_i = plxrmt.Input(port_I)\n",
    "# path = r'\\\\HKGNTS22\\geo\\Actual Job\\211036\\11-00 Calculations\\11-02 Seawall Design\\Post 2016 GI\\02 Sections\\CH 0100 - Section 1\\01 Plaxis'\n",
    "# os.chdir(path)\n",
    "# g_o = plx_o.g_o\n",
    "\n",
    "# plx_o.open_file(os.path.join(path,'CH4150_C099_Udr_Rev01.p2dx'))\n",
    "#plx_o.open_file(r'C:\\Users\\dazhong.li\\Desktop\\New folder (4)\\MCC_AxSC_UPMW_r02.p2dx')"
   ]
  },
  {
   "cell_type": "code",
   "execution_count": null,
   "metadata": {},
   "outputs": [],
   "source": []
  }
 ],
 "metadata": {
  "kernelspec": {
   "display_name": "Python 3",
   "language": "python",
   "name": "python3"
  },
  "language_info": {
   "codemirror_mode": {
    "name": "ipython",
    "version": 3
   },
   "file_extension": ".py",
   "mimetype": "text/x-python",
   "name": "python",
   "nbconvert_exporter": "python",
   "pygments_lexer": "ipython3",
   "version": "3.6.5"
  }
 },
 "nbformat": 4,
 "nbformat_minor": 2
}
