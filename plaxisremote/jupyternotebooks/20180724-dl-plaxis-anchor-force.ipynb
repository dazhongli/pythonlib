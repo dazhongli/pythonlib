{
 "cells": [
  {
   "cell_type": "markdown",
   "metadata": {},
   "source": [
    "# Automate generating of the HoopForce using Python"
   ]
  },
  {
   "cell_type": "code",
   "execution_count": 11,
   "metadata": {},
   "outputs": [],
   "source": [
    "#load in the path to the Plaxis \n",
    "import imp\n",
    "import sys\n",
    "sys.path.append(r'C:\\Users\\dazhong.li\\OneDrive\\05Research\\00Codes\\01Python\\pythonlib\\plaxisremote')\n",
    "from plaxisremote import Output\n",
    "import plaxisremote as plxrmt\n",
    "import os\n",
    "import numpy as np\n",
    "import pandas as pd\n",
    "import matplotlib.pyplot as plt\n",
    "from PIL import Image\n",
    "from IPython.display import Image\n",
    "%matplotlib inline"
   ]
  },
  {
   "cell_type": "code",
   "execution_count": 12,
   "metadata": {},
   "outputs": [],
   "source": [
    "port_o = 10001\n",
    "port_I = 10000\n",
    "plx_o = Output(port_o)\n",
    "plx_i = plxrmt.Input(port_I)\n",
    "path = r'\\\\HKGNTS22\\geo\\Actual Job\\211036\\11-00 Calculations\\11-02 Seawall Design\\Post 2016 GI\\02 Sections\\CH 2150 P_E2 K053\\01 Plaxis\\UD Study'\n",
    "os.chdir(path)\n",
    "g_o = plx_o.g_o\n",
    "# plx_o.open_file(os.path.join(path,'CH4150_C099_Udr_Rev01.p2dx'))\n",
    "#plx_o.open_file(r'C:\\Users\\dazhong.li\\Desktop\\New folder (4)\\MCC_AxSC_UPMW_r02.p2dx')"
   ]
  },
  {
   "cell_type": "code",
   "execution_count": null,
   "metadata": {},
   "outputs": [],
   "source": [
    "# df = plx_o.get_anchor_force('Phase_3')\n",
    "# df_hoop_force_prior_FOS= plxrmt.find_hoop_force(df,'yb')\n",
    "# df = plx_o.get_anchor_force('Phase_6')\n",
    "# df_hoop_force_FOS = plxrmt.find_hoop_force(df,'yb')\n",
    "#----Landscape case\n",
    "df = plx_o.get_anchor_force('Phase_33')\n",
    "df_hoop_force_prior_FOS= plxrmt.find_hoop_force(df,'yb')\n",
    "df = plx_o.get_anchor_force('Phase_34')\n",
    "df_hoop_force_FOS = plxrmt.find_hoop_force(df,'yb')"
   ]
  },
  {
   "cell_type": "markdown",
   "metadata": {},
   "source": [
    "## Setup a Figure for plot of the hoop forces"
   ]
  },
  {
   "cell_type": "code",
   "execution_count": null,
   "metadata": {},
   "outputs": [],
   "source": [
    "# title = 'Hoop Foce at C092 for Baseline Undrained Case'\n",
    "title = 'Hoop Force for K053 - Sensitivity Case'\n",
    "fig = plt.figure(figsize=(8.27,11.69))\n",
    "ax = fig.add_subplot(111)\n",
    "ax.plot([2000,2000],[5,-30],label= 'Allowable web tension capacity with FOS of 1.4, corrosion to 8mm',linestyle='-.')\n",
    "ax.plot([2840,2840],[5,-30],label= 'Ultimate web tension capacity, corrosion to 8mm',linestyle='-.')\n",
    "ax.plot([3200,3200],[5,-30],label= 'Allowable web tension capacity with FOS of 1.4, w/o corrosion',linestyle='-.')\n",
    "ax.plot([4500,4500],[5,-30],label= 'Ultimate web tension capacity, w/o corrosion',linestyle='-.')\n",
    "df_hoop_force_prior_FOS.plot(x='force',y='y',ax=ax,label='SEAWARD WALL (Prior to FOS Stage)',c='b',marker='*')\n",
    "df_hoop_force_FOS.plot(x='force',y='y',ax=ax,label='SEAWARD WALL (FOS Stage)',c='r',marker='^')\n",
    "ax.legend(loc=4)\n",
    "ax.set_ylabel('Elevation(mPD)')\n",
    "ax.set_xlabel('Force (kN)')\n",
    "ax.set_xlim(0,5000)\n",
    "ax.set_ylim(-35,3)\n",
    "ax.grid()\n",
    "fig.suptitle(title)\n",
    "fig.tight_layout()\n",
    "fig.savefig(title + '.pdf')"
   ]
  }
 ],
 "metadata": {
  "kernelspec": {
   "display_name": "Python 3",
   "language": "python",
   "name": "python3"
  },
  "language_info": {
   "codemirror_mode": {
    "name": "ipython",
    "version": 3
   },
   "file_extension": ".py",
   "mimetype": "text/x-python",
   "name": "python",
   "nbconvert_exporter": "python",
   "pygments_lexer": "ipython3",
   "version": "3.6.5"
  }
 },
 "nbformat": 4,
 "nbformat_minor": 2
}
