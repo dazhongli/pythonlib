{
 "cells": [
  {
   "cell_type": "markdown",
   "metadata": {},
   "source": [
    "# Calculate the residual of yield function for stone columns"
   ]
  },
  {
   "cell_type": "code",
   "execution_count": 1,
   "metadata": {},
   "outputs": [],
   "source": [
    "#load in the path to the Plaxis \n",
    "import imp\n",
    "import sys\n",
    "sys.path.append(r'C:\\Users\\dazhong.li\\OneDrive\\05Research\\00Codes\\01Python\\pythonlib\\plaxisremote')\n",
    "from plaxisremote import Output\n",
    "import plaxisremote as plxrmt\n",
    "import os\n",
    "import numpy as np\n",
    "import pandas as pd\n",
    "from plot import paper\n",
    "#$from scipy.interpolate import interp2d\n",
    "import matplotlib.pyplot as plt\n",
    "from PIL import Image\n",
    "from IPython.display import Image\n",
    "import seaborn as sns\n",
    "%matplotlib inline"
   ]
  },
  {
   "cell_type": "code",
   "execution_count": 2,
   "metadata": {},
   "outputs": [],
   "source": [
    "port_o = 10001\n",
    "port_I = 10000\n",
    "plx_o = Output(port_o)\n",
    "plx_i = plxrmt.Input(port_I)\n",
    "# path = r'\\\\HKGNTS22\\geo\\Actual Job\\211036\\11-00 Calculations\\11-02 Seawall Design\\Post 2016 GI\\02 Sections\\CH 0100 - Section 1\\01 Plaxis'\n",
    "# os.chdir(path)\n",
    "# g_o = plx_o.g_o\n",
    "\n",
    "# plx_o.open_file(os.path.join(path,'CH4150_C099_Udr_Rev01.p2dx'))\n",
    "#plx_o.open_file(r'C:\\Users\\dazhong.li\\Desktop\\New folder (4)\\MCC_AxSC_UPMW_r02.p2dx')"
   ]
  },
  {
   "cell_type": "code",
   "execution_count": 3,
   "metadata": {},
   "outputs": [],
   "source": [
    "g_o = plx_o.g_o"
   ]
  },
  {
   "cell_type": "code",
   "execution_count": 7,
   "metadata": {},
   "outputs": [
    {
     "ename": "PlxScriptingError",
     "evalue": "Internal Server Error",
     "output_type": "error",
     "traceback": [
      "\u001b[1;31m---------------------------------------------------------------------------\u001b[0m",
      "\u001b[1;31mPlxScriptingError\u001b[0m                         Traceback (most recent call last)",
      "\u001b[1;32m<ipython-input-7-50fea7723ef6>\u001b[0m in \u001b[0;36m<module>\u001b[1;34m()\u001b[0m\n\u001b[1;32m----> 1\u001b[1;33m \u001b[0mg_o\u001b[0m\u001b[1;33m.\u001b[0m\u001b[0mSoils\u001b[0m\u001b[1;33m[\u001b[0m\u001b[1;33m:\u001b[0m\u001b[1;33m]\u001b[0m\u001b[1;33m\u001b[0m\u001b[0m\n\u001b[0m",
      "\u001b[1;32mC:\\Program Files\\Plaxis\\PLAXIS 2D\\plxscripting\\plxproxy.py\u001b[0m in \u001b[0;36m__getitem__\u001b[1;34m(self, key)\u001b[0m\n\u001b[0;32m    219\u001b[0m             \u001b[1;31m# The server can process the original slice indices on its own\u001b[0m\u001b[1;33m\u001b[0m\u001b[1;33m\u001b[0m\u001b[0m\n\u001b[0;32m    220\u001b[0m             return self._server.call_listable_method(\n\u001b[1;32m--> 221\u001b[1;33m                 self, SUBLIST, startindex=key.start, stopindex=key.stop)\n\u001b[0m\u001b[0;32m    222\u001b[0m \u001b[1;33m\u001b[0m\u001b[0m\n\u001b[0;32m    223\u001b[0m         \u001b[1;32mif\u001b[0m \u001b[1;32mnot\u001b[0m \u001b[0misinstance\u001b[0m\u001b[1;33m(\u001b[0m\u001b[0mkey\u001b[0m\u001b[1;33m,\u001b[0m \u001b[0mint\u001b[0m\u001b[1;33m)\u001b[0m\u001b[1;33m:\u001b[0m\u001b[1;33m\u001b[0m\u001b[0m\n",
      "\u001b[1;32mC:\\Program Files\\Plaxis\\PLAXIS 2D\\plxscripting\\server.py\u001b[0m in \u001b[0;36mcall_listable_method\u001b[1;34m(self, proxy_listable, method_name, startindex, stopindex)\u001b[0m\n\u001b[0;32m    496\u001b[0m         \u001b[0mkey\u001b[0m \u001b[1;33m=\u001b[0m \u001b[1;33m(\u001b[0m\u001b[0mproxy_listable\u001b[0m\u001b[1;33m.\u001b[0m\u001b[0m_guid\u001b[0m\u001b[1;33m,\u001b[0m \u001b[0mmethod_name\u001b[0m\u001b[1;33m,\u001b[0m \u001b[0mstartindex\u001b[0m\u001b[1;33m,\u001b[0m \u001b[0mstopindex\u001b[0m\u001b[1;33m)\u001b[0m\u001b[1;33m\u001b[0m\u001b[0m\n\u001b[0;32m    497\u001b[0m         return self.__get_with_cache(key, self.__listables_cache,\n\u001b[1;32m--> 498\u001b[1;33m                                      lambda: self.__call_listable_method_no_cache(\n\u001b[0m\u001b[0;32m    499\u001b[0m                                          proxy_listable, method_name, startindex, stopindex))\n\u001b[0;32m    500\u001b[0m \u001b[1;33m\u001b[0m\u001b[0m\n",
      "\u001b[1;32mC:\\Program Files\\Plaxis\\PLAXIS 2D\\plxscripting\\server.py\u001b[0m in \u001b[0;36m__get_with_cache\u001b[1;34m(self, key, cache, func_if_not_found)\u001b[0m\n\u001b[0;32m    466\u001b[0m             \u001b[1;32mreturn\u001b[0m \u001b[0mcache\u001b[0m\u001b[1;33m[\u001b[0m\u001b[0mkey\u001b[0m\u001b[1;33m]\u001b[0m\u001b[1;33m\u001b[0m\u001b[0m\n\u001b[0;32m    467\u001b[0m \u001b[1;33m\u001b[0m\u001b[0m\n\u001b[1;32m--> 468\u001b[1;33m         \u001b[0mresult\u001b[0m \u001b[1;33m=\u001b[0m \u001b[0mfunc_if_not_found\u001b[0m\u001b[1;33m(\u001b[0m\u001b[1;33m)\u001b[0m\u001b[1;33m\u001b[0m\u001b[0m\n\u001b[0m\u001b[0;32m    469\u001b[0m \u001b[1;33m\u001b[0m\u001b[0m\n\u001b[0;32m    470\u001b[0m         \u001b[1;32mif\u001b[0m \u001b[0mself\u001b[0m\u001b[1;33m.\u001b[0m\u001b[0mallow_caching\u001b[0m\u001b[1;33m:\u001b[0m\u001b[1;33m\u001b[0m\u001b[0m\n",
      "\u001b[1;32mC:\\Program Files\\Plaxis\\PLAXIS 2D\\plxscripting\\server.py\u001b[0m in \u001b[0;36m<lambda>\u001b[1;34m()\u001b[0m\n\u001b[0;32m    497\u001b[0m         return self.__get_with_cache(key, self.__listables_cache,\n\u001b[0;32m    498\u001b[0m                                      lambda: self.__call_listable_method_no_cache(\n\u001b[1;32m--> 499\u001b[1;33m                                          proxy_listable, method_name, startindex, stopindex))\n\u001b[0m\u001b[0;32m    500\u001b[0m \u001b[1;33m\u001b[0m\u001b[0m\n\u001b[0;32m    501\u001b[0m     \u001b[1;32mdef\u001b[0m \u001b[0m__get_name_object_no_cache\u001b[0m\u001b[1;33m(\u001b[0m\u001b[0mself\u001b[0m\u001b[1;33m,\u001b[0m \u001b[0mobject_name\u001b[0m\u001b[1;33m)\u001b[0m\u001b[1;33m:\u001b[0m\u001b[1;33m\u001b[0m\u001b[0m\n",
      "\u001b[1;32mC:\\Program Files\\Plaxis\\PLAXIS 2D\\plxscripting\\server.py\u001b[0m in \u001b[0;36m__call_listable_method_no_cache\u001b[1;34m(self, proxy_listable, method_name, startindex, stopindex)\u001b[0m\n\u001b[0;32m    485\u001b[0m         \u001b[0mlistable_query\u001b[0m\u001b[1;33m.\u001b[0m\u001b[0mupdate\u001b[0m\u001b[1;33m(\u001b[0m\u001b[0moptional_parameters\u001b[0m\u001b[1;33m)\u001b[0m\u001b[1;33m\u001b[0m\u001b[0m\n\u001b[0;32m    486\u001b[0m \u001b[1;33m\u001b[0m\u001b[0m\n\u001b[1;32m--> 487\u001b[1;33m         \u001b[0mresponse\u001b[0m \u001b[1;33m=\u001b[0m \u001b[0mself\u001b[0m\u001b[1;33m.\u001b[0m\u001b[0mconnection\u001b[0m\u001b[1;33m.\u001b[0m\u001b[0mrequest_list\u001b[0m\u001b[1;33m(\u001b[0m\u001b[0mlistable_query\u001b[0m\u001b[1;33m)\u001b[0m\u001b[1;33m\u001b[0m\u001b[0m\n\u001b[0m\u001b[0;32m    488\u001b[0m         return self.result_handler.handle_list_response(\n\u001b[0;32m    489\u001b[0m             response[JSON_LISTQUERIES][0])\n",
      "\u001b[1;32mC:\\Program Files\\Plaxis\\PLAXIS 2D\\plxscripting\\connection.py\u001b[0m in \u001b[0;36mrequest_list\u001b[1;34m(self, *list_queries)\u001b[0m\n\u001b[0;32m    168\u001b[0m         \"\"\"\n\u001b[0;32m    169\u001b[0m         \u001b[0mpayload\u001b[0m \u001b[1;33m=\u001b[0m \u001b[1;33m{\u001b[0m\u001b[0mACTION\u001b[0m\u001b[1;33m:\u001b[0m \u001b[1;33m{\u001b[0m\u001b[0mLIST_QUERIES\u001b[0m\u001b[1;33m:\u001b[0m \u001b[0mlist_queries\u001b[0m\u001b[1;33m}\u001b[0m\u001b[1;33m}\u001b[0m\u001b[1;33m\u001b[0m\u001b[0m\n\u001b[1;32m--> 170\u001b[1;33m         \u001b[0mrequest\u001b[0m \u001b[1;33m=\u001b[0m \u001b[0mself\u001b[0m\u001b[1;33m.\u001b[0m\u001b[0m_send_request\u001b[0m\u001b[1;33m(\u001b[0m\u001b[0mself\u001b[0m\u001b[1;33m.\u001b[0m\u001b[0mQUERY_LIST_PREFIX\u001b[0m\u001b[1;33m,\u001b[0m \u001b[0mpayload\u001b[0m\u001b[1;33m)\u001b[0m\u001b[1;33m\u001b[0m\u001b[0m\n\u001b[0m\u001b[0;32m    171\u001b[0m         \u001b[1;32mreturn\u001b[0m \u001b[0mrequest\u001b[0m\u001b[1;33m.\u001b[0m\u001b[0mjson\u001b[0m\u001b[1;33m(\u001b[0m\u001b[1;33m)\u001b[0m\u001b[1;33m\u001b[0m\u001b[0m\n\u001b[0;32m    172\u001b[0m \u001b[1;33m\u001b[0m\u001b[0m\n",
      "\u001b[1;32mC:\\Program Files\\Plaxis\\PLAXIS 2D\\plxscripting\\connection.py\u001b[0m in \u001b[0;36m_send_request\u001b[1;34m(self, operation_address, payload)\u001b[0m\n\u001b[0;32m    103\u001b[0m         \u001b[0mself\u001b[0m\u001b[1;33m.\u001b[0m\u001b[0mrequests_count\u001b[0m \u001b[1;33m+=\u001b[0m \u001b[1;36m1\u001b[0m\u001b[1;33m\u001b[0m\u001b[0m\n\u001b[0;32m    104\u001b[0m         \u001b[1;32mif\u001b[0m \u001b[1;32mnot\u001b[0m \u001b[0mrequest\u001b[0m\u001b[1;33m.\u001b[0m\u001b[0mok\u001b[0m\u001b[1;33m:\u001b[0m\u001b[1;33m\u001b[0m\u001b[0m\n\u001b[1;32m--> 105\u001b[1;33m             \u001b[1;32mraise\u001b[0m \u001b[0mPlxScriptingError\u001b[0m\u001b[1;33m(\u001b[0m\u001b[0mrequest\u001b[0m\u001b[1;33m.\u001b[0m\u001b[0mreason\u001b[0m\u001b[1;33m)\u001b[0m\u001b[1;33m\u001b[0m\u001b[0m\n\u001b[0m\u001b[0;32m    106\u001b[0m         \u001b[1;32mreturn\u001b[0m \u001b[0mrequest\u001b[0m\u001b[1;33m\u001b[0m\u001b[0m\n\u001b[0;32m    107\u001b[0m \u001b[1;33m\u001b[0m\u001b[0m\n",
      "\u001b[1;31mPlxScriptingError\u001b[0m: Internal Server Error"
     ]
    }
   ],
   "source": [
    "g_o.Soils[:]"
   ]
  },
  {
   "cell_type": "code",
   "execution_count": null,
   "metadata": {},
   "outputs": [],
   "source": []
  }
 ],
 "metadata": {
  "kernelspec": {
   "display_name": "Python 3",
   "language": "python",
   "name": "python3"
  },
  "language_info": {
   "codemirror_mode": {
    "name": "ipython",
    "version": 3
   },
   "file_extension": ".py",
   "mimetype": "text/x-python",
   "name": "python",
   "nbconvert_exporter": "python",
   "pygments_lexer": "ipython3",
   "version": "3.6.5"
  }
 },
 "nbformat": 4,
 "nbformat_minor": 2
}
