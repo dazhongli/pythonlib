{
 "cells": [
  {
   "cell_type": "code",
   "execution_count": 10,
   "metadata": {},
   "outputs": [],
   "source": [
    "import openpyxl as xl\n",
    "from pathlib import Path\n",
    "from shutil import copyfile\n",
    "import os\n",
    "import re"
   ]
  },
  {
   "cell_type": "code",
   "execution_count": 34,
   "metadata": {},
   "outputs": [],
   "source": [
    "os.chdir(r'C:\\Users\\dz.li\\Desktop\\Vidoes\\from Keith')\n",
    "wb = xl.load_workbook('Video(20M).xlsx')"
   ]
  },
  {
   "cell_type": "code",
   "execution_count": 35,
   "metadata": {},
   "outputs": [],
   "source": [
    "ws = wb['records']"
   ]
  },
  {
   "cell_type": "code",
   "execution_count": 41,
   "metadata": {},
   "outputs": [],
   "source": [
    "folder = r'V:\\Reclamation'\n",
    "count = 0\n",
    "for i in range(1,ws.max_row):\n",
    "    if ws.cell(i,2).fill.start_color.index =='FFFFFF00':\n",
    "        source = ws.cell(row=i,column=2).value\n",
    "        source_path = Path(source)\n",
    "        dest_name = '{:02d}-{:>10s} - [{}]{}'.format(count,source_path.name[:10],ws.cell(row=i,column=5).value,source_path.suffix)\n",
    "        dest = os.path.join(folder,dest_name)\n",
    "        copyfile(source,dest)\n",
    "        count = count  + 1"
   ]
  },
  {
   "cell_type": "code",
   "execution_count": null,
   "metadata": {},
   "outputs": [],
   "source": []
  }
 ],
 "metadata": {
  "kernelspec": {
   "display_name": "Python 3",
   "language": "python",
   "name": "python3"
  },
  "language_info": {
   "codemirror_mode": {
    "name": "ipython",
    "version": 3
   },
   "file_extension": ".py",
   "mimetype": "text/x-python",
   "name": "python",
   "nbconvert_exporter": "python",
   "pygments_lexer": "ipython3",
   "version": "3.6.5"
  }
 },
 "nbformat": 4,
 "nbformat_minor": 2
}
