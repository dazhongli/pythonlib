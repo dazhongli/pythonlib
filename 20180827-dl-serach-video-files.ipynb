{
 "cells": [
  {
   "cell_type": "code",
   "execution_count": 2,
   "metadata": {},
   "outputs": [],
   "source": [
    "import os\n",
    "import openpyxl as xl\n",
    "\n",
    "encoding = 'utf-8'"
   ]
  },
  {
   "cell_type": "code",
   "execution_count": 8,
   "metadata": {},
   "outputs": [],
   "source": [
    "def search_folder(path):\n",
    "    folder_name = path.split(\"\\\\\")[-1]\n",
    "    with open(os.path.join(r'C:\\Users\\dz.li\\Desktop\\Vidoes',folder_name +'.md'),'w',encoding=encoding) as f:\n",
    "        f.write('|ID|filename|useful|remarks|lengh|\\n' + \n",
    "                 '|--|--------|------|-------|----|\\n')\n",
    "        count = 0\n",
    "        fcount = 0\n",
    "    #     import pdb; pdb.set_trace()\n",
    "        for root, dirs, files in os.walk(path, topdown=False):\n",
    "            fcount = fcount +1\n",
    "            string = 'File searched = {} : File found = {}'.format(fcount,count)\n",
    "            print(string,end=\"\\r\")\n",
    "            results = [x for x in files if x.endswith('mp4') or \n",
    "                       x.endswith('MOV') or\n",
    "                       x.endswith('mov') or\n",
    "                       x.endswith('avi') or \n",
    "                       x.endswith('MPG') or \n",
    "                       x.endswith('MTS') or \n",
    "                       x.endswith('mpg') or\n",
    "                       x.endswith('wmv') or\n",
    "                       x.endswith('VOB')]\n",
    "            if (len(results)>0):\n",
    "                for video in results:\n",
    "                    if float(os.path.getsize(os.path.join(root,video))/1048576)>=20:\n",
    "                        root_md = root.replace(\"(\",\"\\(\")\n",
    "                        root_md = root_md.replace(\")\",\"\\)\")\n",
    "                        string = '|{}|[{}]({})|\\'{}\\'|{:.2f}M|\\n'.format(count,video,os.path.join(root_md,video),root.replace(\"\\\\\",'_'),\n",
    "                                                                float(os.path.getsize(os.path.join(root,video))/1048576))\n",
    "                        count = count +1\n",
    "                        f.write(string)"
   ]
  },
  {
   "cell_type": "markdown",
   "metadata": {},
   "source": [
    "# Let's search the Survey Folder"
   ]
  },
  {
   "cell_type": "code",
   "execution_count": 3,
   "metadata": {},
   "outputs": [],
   "source": [
    "#search_folder('X:\\Public Relations')\n",
    "wb = xl.load_workbook(os.path.join(r'C:\\Users\\dz.li\\Desktop\\Vidoes','test.xlsx'))\n",
    "ws = wb['records']\n",
    "os.chdir(r'C:\\Users\\dz.li\\Desktop\\Vidoes')"
   ]
  },
  {
   "cell_type": "code",
   "execution_count": 9,
   "metadata": {},
   "outputs": [],
   "source": [
    "def search_folder(path):\n",
    "    folder_name = path.split(\"\\\\\")[-1]\n",
    "#     import pdb; pdb.set_trace()\n",
    "    count = 2\n",
    "    fcount = 0\n",
    "    for root, dirs, files in os.walk(path, topdown=False):\n",
    "        fcount = fcount +1\n",
    "        string = 'File searched = {} : File found = {}'.format(fcount,count)\n",
    "        print(string,end=\"\\r\")\n",
    "        results = [x for x in files if x.endswith('mp4') or \n",
    "                   x.endswith('MOV') or\n",
    "                   x.endswith('mov') or\n",
    "                   x.endswith('avi') or \n",
    "                   x.endswith('MPG') or \n",
    "                   x.endswith('MTS') or \n",
    "                   x.endswith('mpg') or\n",
    "                   x.endswith('wmv') or\n",
    "                   x.endswith('VOB') or\n",
    "                   x.endswith('mp4')]\n",
    "        if (len(results)>0):\n",
    "            for video in results:\n",
    "#                 import pdb; pdb.set_trace()\n",
    "                try:\n",
    "                    if float(os.path.getsize(os.path.join(root,video))/1048576)>=20:\n",
    "                        ws.cell(column=1,row=count).value = video\n",
    "                        ws.cell(column=1,row=count).hyperlink = os.path.join(root,video) \n",
    "                        ws.cell(column=2,row=count).value =os.path.join(root,video) \n",
    "                        ws.cell(column=3,row=count).value = float(os.path.getsize(os.path.join(root,video))/1048576)\n",
    "                        count = count + 1\n",
    "                except:\n",
    "                    print(video)"
   ]
  },
  {
   "cell_type": "code",
   "execution_count": 10,
   "metadata": {},
   "outputs": [
    {
     "name": "stdout",
     "output_type": "stream",
     "text": [
      "MVI_4657.MOVd = 18530 : File found = 233\n",
      "MVI_4660.MOV\n",
      "File searched = 685315 : File found = 4470\r"
     ]
    }
   ],
   "source": [
    "search_folder(r'Z:')\n",
    "wb.save('hello.xlsx')"
   ]
  },
  {
   "cell_type": "code",
   "execution_count": null,
   "metadata": {},
   "outputs": [],
   "source": []
  }
 ],
 "metadata": {
  "kernelspec": {
   "display_name": "Python 3",
   "language": "python",
   "name": "python3"
  },
  "language_info": {
   "codemirror_mode": {
    "name": "ipython",
    "version": 3
   },
   "file_extension": ".py",
   "mimetype": "text/x-python",
   "name": "python",
   "nbconvert_exporter": "python",
   "pygments_lexer": "ipython3",
   "version": "3.6.5"
  }
 },
 "nbformat": 4,
 "nbformat_minor": 2
}
