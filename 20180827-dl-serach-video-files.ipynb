{
 "cells": [
  {
   "cell_type": "code",
   "execution_count": 61,
   "metadata": {},
   "outputs": [],
   "source": [
    "import os\n",
    "encoding = 'utf-8'"
   ]
  },
  {
   "cell_type": "code",
   "execution_count": 2,
   "metadata": {},
   "outputs": [],
   "source": [
    "os.chdir(r'Y:\\Site Record Photo')"
   ]
  },
  {
   "cell_type": "code",
   "execution_count": 103,
   "metadata": {},
   "outputs": [
    {
     "name": "stdout",
     "output_type": "stream",
     "text": [
      "File searched = 434987 : File found = 2647\r"
     ]
    }
   ],
   "source": [
    "with open('result.md','w',encoding=encoding) as f:\n",
    "    f.write('|ID|filename|useful|remarks|lengh|\\n' + \n",
    "             '|--|--------|------|-------|----|\\n')\n",
    "    count = 0\n",
    "    fcount = 0\n",
    "    for root, dirs, files in os.walk(\"Y:\\Site Record Photo\", topdown=False):\n",
    "        fcount = fcount +1\n",
    "        string = 'File searched = {} : File found = {}'.format(fcount,count)\n",
    "        print(string,end=\"\\r\")\n",
    "        results = [x for x in files if x.endswith('mp4') or \n",
    "                   x.endswith('MOV') or\n",
    "                   x.endswith('mov') or\n",
    "                   x.endswith('avi') or \n",
    "                   x.endswith('MPG') or \n",
    "                   x.endswith('MTS') or \n",
    "                   x.endswith('VOB')]\n",
    "        if (len(results)>0):\n",
    "            for video in results:\n",
    "                if float(os.path.getsize(os.path.join(root,video))/1048576)>100:\n",
    "                    root_md = root.replace(\"(\",\"%28\")\n",
    "                    root_md = root_md.replace(\")\",\"%29\")\n",
    "                    string = '|{}|[{}]({})|\\'{}\\'|{:.2f}M|\\n'.format(count,video,os.path.join(root_md,video),root.replace(\"\\\\\",'_'),\n",
    "                                                            float(os.path.getsize(os.path.join(root,video))/1048576))\n",
    "                    count = count +1\n",
    "                    f.write(string)"
   ]
  },
  {
   "cell_type": "code",
   "execution_count": 104,
   "metadata": {},
   "outputs": [
    {
     "name": "stdout",
     "output_type": "stream",
     "text": [
      "File searched = 14287 : File found = 2\r"
     ]
    }
   ],
   "source": [
    "path = r'Z:\\Survey Record'\n",
    "os.chdir(path)\n",
    "with open('result.md','w',encoding=encoding) as f:\n",
    "    f.write('|ID|filename|useful|remarks|lengh|\\n' + \n",
    "             '|--|--------|------|-------|----|\\n')\n",
    "    count = 0\n",
    "    fcount = 0\n",
    "    for root, dirs, files in os.walk(path, topdown=False):\n",
    "        fcount = fcount +1\n",
    "        string = 'File searched = {} : File found = {}'.format(fcount,count)\n",
    "        print(string,end=\"\\r\")\n",
    "        results = [x for x in files if x.endswith('mp4') or \n",
    "                   x.endswith('MOV') or\n",
    "                   x.endswith('mov') or\n",
    "                   x.endswith('avi') or \n",
    "                   x.endswith('MPG') or \n",
    "                   x.endswith('MTS') or \n",
    "                   x.endswith('VOB')]\n",
    "        if (len(results)>0):\n",
    "            for video in results:\n",
    "                if float(os.path.getsize(os.path.join(root,video))/1048576)>100:\n",
    "                    root_md = root.replace(\"(\",\"%28\")\n",
    "                    root_md = root_md.replace(\")\",\"%29\")\n",
    "                    string = '|{}|[{}]({})|\\'{}\\'|{:.2f}M|\\n'.format(count,video,os.path.join(root_md,video),root.replace(\"\\\\\",'_'),\n",
    "                                                            float(os.path.getsize(os.path.join(root,video))/1048576))\n",
    "                    count = count +1\n",
    "                    f.write(string)"
   ]
  },
  {
   "cell_type": "code",
   "execution_count": 106,
   "metadata": {},
   "outputs": [
    {
     "name": "stdout",
     "output_type": "stream",
     "text": [
      "File searched = 4473 : File found = 3\r"
     ]
    },
    {
     "ename": "KeyboardInterrupt",
     "evalue": "",
     "output_type": "error",
     "traceback": [
      "\u001b[1;31m---------------------------------------------------------------------------\u001b[0m",
      "\u001b[1;31mKeyboardInterrupt\u001b[0m                         Traceback (most recent call last)",
      "\u001b[1;32m<ipython-input-106-59970cb35103>\u001b[0m in \u001b[0;36m<module>\u001b[1;34m()\u001b[0m\n\u001b[0;32m      6\u001b[0m     \u001b[0mcount\u001b[0m \u001b[1;33m=\u001b[0m \u001b[1;36m0\u001b[0m\u001b[1;33m\u001b[0m\u001b[0m\n\u001b[0;32m      7\u001b[0m     \u001b[0mfcount\u001b[0m \u001b[1;33m=\u001b[0m \u001b[1;36m0\u001b[0m\u001b[1;33m\u001b[0m\u001b[0m\n\u001b[1;32m----> 8\u001b[1;33m     \u001b[1;32mfor\u001b[0m \u001b[0mroot\u001b[0m\u001b[1;33m,\u001b[0m \u001b[0mdirs\u001b[0m\u001b[1;33m,\u001b[0m \u001b[0mfiles\u001b[0m \u001b[1;32min\u001b[0m \u001b[0mos\u001b[0m\u001b[1;33m.\u001b[0m\u001b[0mwalk\u001b[0m\u001b[1;33m(\u001b[0m\u001b[0mpath\u001b[0m\u001b[1;33m,\u001b[0m \u001b[0mtopdown\u001b[0m\u001b[1;33m=\u001b[0m\u001b[1;32mFalse\u001b[0m\u001b[1;33m)\u001b[0m\u001b[1;33m:\u001b[0m\u001b[1;33m\u001b[0m\u001b[0m\n\u001b[0m\u001b[0;32m      9\u001b[0m         \u001b[0mfcount\u001b[0m \u001b[1;33m=\u001b[0m \u001b[0mfcount\u001b[0m \u001b[1;33m+\u001b[0m\u001b[1;36m1\u001b[0m\u001b[1;33m\u001b[0m\u001b[0m\n\u001b[0;32m     10\u001b[0m         \u001b[0mstring\u001b[0m \u001b[1;33m=\u001b[0m \u001b[1;34m'File searched = {} : File found = {}'\u001b[0m\u001b[1;33m.\u001b[0m\u001b[0mformat\u001b[0m\u001b[1;33m(\u001b[0m\u001b[0mfcount\u001b[0m\u001b[1;33m,\u001b[0m\u001b[0mcount\u001b[0m\u001b[1;33m)\u001b[0m\u001b[1;33m\u001b[0m\u001b[0m\n",
      "\u001b[1;32m~AppData\\Local\\Continuum\\anaconda3\\lib\\os.py\u001b[0m in \u001b[0;36mwalk\u001b[1;34m(top, topdown, onerror, followlinks)\u001b[0m\n\u001b[0;32m    411\u001b[0m         \u001b[1;31m# Recurse into sub-directories\u001b[0m\u001b[1;33m\u001b[0m\u001b[1;33m\u001b[0m\u001b[0m\n\u001b[0;32m    412\u001b[0m         \u001b[1;32mfor\u001b[0m \u001b[0mnew_path\u001b[0m \u001b[1;32min\u001b[0m \u001b[0mwalk_dirs\u001b[0m\u001b[1;33m:\u001b[0m\u001b[1;33m\u001b[0m\u001b[0m\n\u001b[1;32m--> 413\u001b[1;33m             \u001b[1;32myield\u001b[0m \u001b[1;32mfrom\u001b[0m \u001b[0mwalk\u001b[0m\u001b[1;33m(\u001b[0m\u001b[0mnew_path\u001b[0m\u001b[1;33m,\u001b[0m \u001b[0mtopdown\u001b[0m\u001b[1;33m,\u001b[0m \u001b[0monerror\u001b[0m\u001b[1;33m,\u001b[0m \u001b[0mfollowlinks\u001b[0m\u001b[1;33m)\u001b[0m\u001b[1;33m\u001b[0m\u001b[0m\n\u001b[0m\u001b[0;32m    414\u001b[0m         \u001b[1;31m# Yield after recursion if going bottom up\u001b[0m\u001b[1;33m\u001b[0m\u001b[1;33m\u001b[0m\u001b[0m\n\u001b[0;32m    415\u001b[0m         \u001b[1;32myield\u001b[0m \u001b[0mtop\u001b[0m\u001b[1;33m,\u001b[0m \u001b[0mdirs\u001b[0m\u001b[1;33m,\u001b[0m \u001b[0mnondirs\u001b[0m\u001b[1;33m\u001b[0m\u001b[0m\n",
      "\u001b[1;32m~AppData\\Local\\Continuum\\anaconda3\\lib\\os.py\u001b[0m in \u001b[0;36mwalk\u001b[1;34m(top, topdown, onerror, followlinks)\u001b[0m\n\u001b[0;32m    411\u001b[0m         \u001b[1;31m# Recurse into sub-directories\u001b[0m\u001b[1;33m\u001b[0m\u001b[1;33m\u001b[0m\u001b[0m\n\u001b[0;32m    412\u001b[0m         \u001b[1;32mfor\u001b[0m \u001b[0mnew_path\u001b[0m \u001b[1;32min\u001b[0m \u001b[0mwalk_dirs\u001b[0m\u001b[1;33m:\u001b[0m\u001b[1;33m\u001b[0m\u001b[0m\n\u001b[1;32m--> 413\u001b[1;33m             \u001b[1;32myield\u001b[0m \u001b[1;32mfrom\u001b[0m \u001b[0mwalk\u001b[0m\u001b[1;33m(\u001b[0m\u001b[0mnew_path\u001b[0m\u001b[1;33m,\u001b[0m \u001b[0mtopdown\u001b[0m\u001b[1;33m,\u001b[0m \u001b[0monerror\u001b[0m\u001b[1;33m,\u001b[0m \u001b[0mfollowlinks\u001b[0m\u001b[1;33m)\u001b[0m\u001b[1;33m\u001b[0m\u001b[0m\n\u001b[0m\u001b[0;32m    414\u001b[0m         \u001b[1;31m# Yield after recursion if going bottom up\u001b[0m\u001b[1;33m\u001b[0m\u001b[1;33m\u001b[0m\u001b[0m\n\u001b[0;32m    415\u001b[0m         \u001b[1;32myield\u001b[0m \u001b[0mtop\u001b[0m\u001b[1;33m,\u001b[0m \u001b[0mdirs\u001b[0m\u001b[1;33m,\u001b[0m \u001b[0mnondirs\u001b[0m\u001b[1;33m\u001b[0m\u001b[0m\n",
      "\u001b[1;32m~AppData\\Local\\Continuum\\anaconda3\\lib\\os.py\u001b[0m in \u001b[0;36mwalk\u001b[1;34m(top, topdown, onerror, followlinks)\u001b[0m\n\u001b[0;32m    411\u001b[0m         \u001b[1;31m# Recurse into sub-directories\u001b[0m\u001b[1;33m\u001b[0m\u001b[1;33m\u001b[0m\u001b[0m\n\u001b[0;32m    412\u001b[0m         \u001b[1;32mfor\u001b[0m \u001b[0mnew_path\u001b[0m \u001b[1;32min\u001b[0m \u001b[0mwalk_dirs\u001b[0m\u001b[1;33m:\u001b[0m\u001b[1;33m\u001b[0m\u001b[0m\n\u001b[1;32m--> 413\u001b[1;33m             \u001b[1;32myield\u001b[0m \u001b[1;32mfrom\u001b[0m \u001b[0mwalk\u001b[0m\u001b[1;33m(\u001b[0m\u001b[0mnew_path\u001b[0m\u001b[1;33m,\u001b[0m \u001b[0mtopdown\u001b[0m\u001b[1;33m,\u001b[0m \u001b[0monerror\u001b[0m\u001b[1;33m,\u001b[0m \u001b[0mfollowlinks\u001b[0m\u001b[1;33m)\u001b[0m\u001b[1;33m\u001b[0m\u001b[0m\n\u001b[0m\u001b[0;32m    414\u001b[0m         \u001b[1;31m# Yield after recursion if going bottom up\u001b[0m\u001b[1;33m\u001b[0m\u001b[1;33m\u001b[0m\u001b[0m\n\u001b[0;32m    415\u001b[0m         \u001b[1;32myield\u001b[0m \u001b[0mtop\u001b[0m\u001b[1;33m,\u001b[0m \u001b[0mdirs\u001b[0m\u001b[1;33m,\u001b[0m \u001b[0mnondirs\u001b[0m\u001b[1;33m\u001b[0m\u001b[0m\n",
      "\u001b[1;32m~AppData\\Local\\Continuum\\anaconda3\\lib\\os.py\u001b[0m in \u001b[0;36mwalk\u001b[1;34m(top, topdown, onerror, followlinks)\u001b[0m\n\u001b[0;32m    411\u001b[0m         \u001b[1;31m# Recurse into sub-directories\u001b[0m\u001b[1;33m\u001b[0m\u001b[1;33m\u001b[0m\u001b[0m\n\u001b[0;32m    412\u001b[0m         \u001b[1;32mfor\u001b[0m \u001b[0mnew_path\u001b[0m \u001b[1;32min\u001b[0m \u001b[0mwalk_dirs\u001b[0m\u001b[1;33m:\u001b[0m\u001b[1;33m\u001b[0m\u001b[0m\n\u001b[1;32m--> 413\u001b[1;33m             \u001b[1;32myield\u001b[0m \u001b[1;32mfrom\u001b[0m \u001b[0mwalk\u001b[0m\u001b[1;33m(\u001b[0m\u001b[0mnew_path\u001b[0m\u001b[1;33m,\u001b[0m \u001b[0mtopdown\u001b[0m\u001b[1;33m,\u001b[0m \u001b[0monerror\u001b[0m\u001b[1;33m,\u001b[0m \u001b[0mfollowlinks\u001b[0m\u001b[1;33m)\u001b[0m\u001b[1;33m\u001b[0m\u001b[0m\n\u001b[0m\u001b[0;32m    414\u001b[0m         \u001b[1;31m# Yield after recursion if going bottom up\u001b[0m\u001b[1;33m\u001b[0m\u001b[1;33m\u001b[0m\u001b[0m\n\u001b[0;32m    415\u001b[0m         \u001b[1;32myield\u001b[0m \u001b[0mtop\u001b[0m\u001b[1;33m,\u001b[0m \u001b[0mdirs\u001b[0m\u001b[1;33m,\u001b[0m \u001b[0mnondirs\u001b[0m\u001b[1;33m\u001b[0m\u001b[0m\n",
      "\u001b[1;32m~AppData\\Local\\Continuum\\anaconda3\\lib\\os.py\u001b[0m in \u001b[0;36mwalk\u001b[1;34m(top, topdown, onerror, followlinks)\u001b[0m\n\u001b[0;32m    411\u001b[0m         \u001b[1;31m# Recurse into sub-directories\u001b[0m\u001b[1;33m\u001b[0m\u001b[1;33m\u001b[0m\u001b[0m\n\u001b[0;32m    412\u001b[0m         \u001b[1;32mfor\u001b[0m \u001b[0mnew_path\u001b[0m \u001b[1;32min\u001b[0m \u001b[0mwalk_dirs\u001b[0m\u001b[1;33m:\u001b[0m\u001b[1;33m\u001b[0m\u001b[0m\n\u001b[1;32m--> 413\u001b[1;33m             \u001b[1;32myield\u001b[0m \u001b[1;32mfrom\u001b[0m \u001b[0mwalk\u001b[0m\u001b[1;33m(\u001b[0m\u001b[0mnew_path\u001b[0m\u001b[1;33m,\u001b[0m \u001b[0mtopdown\u001b[0m\u001b[1;33m,\u001b[0m \u001b[0monerror\u001b[0m\u001b[1;33m,\u001b[0m \u001b[0mfollowlinks\u001b[0m\u001b[1;33m)\u001b[0m\u001b[1;33m\u001b[0m\u001b[0m\n\u001b[0m\u001b[0;32m    414\u001b[0m         \u001b[1;31m# Yield after recursion if going bottom up\u001b[0m\u001b[1;33m\u001b[0m\u001b[1;33m\u001b[0m\u001b[0m\n\u001b[0;32m    415\u001b[0m         \u001b[1;32myield\u001b[0m \u001b[0mtop\u001b[0m\u001b[1;33m,\u001b[0m \u001b[0mdirs\u001b[0m\u001b[1;33m,\u001b[0m \u001b[0mnondirs\u001b[0m\u001b[1;33m\u001b[0m\u001b[0m\n",
      "\u001b[1;32m~AppData\\Local\\Continuum\\anaconda3\\lib\\os.py\u001b[0m in \u001b[0;36mwalk\u001b[1;34m(top, topdown, onerror, followlinks)\u001b[0m\n\u001b[0;32m    411\u001b[0m         \u001b[1;31m# Recurse into sub-directories\u001b[0m\u001b[1;33m\u001b[0m\u001b[1;33m\u001b[0m\u001b[0m\n\u001b[0;32m    412\u001b[0m         \u001b[1;32mfor\u001b[0m \u001b[0mnew_path\u001b[0m \u001b[1;32min\u001b[0m \u001b[0mwalk_dirs\u001b[0m\u001b[1;33m:\u001b[0m\u001b[1;33m\u001b[0m\u001b[0m\n\u001b[1;32m--> 413\u001b[1;33m             \u001b[1;32myield\u001b[0m \u001b[1;32mfrom\u001b[0m \u001b[0mwalk\u001b[0m\u001b[1;33m(\u001b[0m\u001b[0mnew_path\u001b[0m\u001b[1;33m,\u001b[0m \u001b[0mtopdown\u001b[0m\u001b[1;33m,\u001b[0m \u001b[0monerror\u001b[0m\u001b[1;33m,\u001b[0m \u001b[0mfollowlinks\u001b[0m\u001b[1;33m)\u001b[0m\u001b[1;33m\u001b[0m\u001b[0m\n\u001b[0m\u001b[0;32m    414\u001b[0m         \u001b[1;31m# Yield after recursion if going bottom up\u001b[0m\u001b[1;33m\u001b[0m\u001b[1;33m\u001b[0m\u001b[0m\n\u001b[0;32m    415\u001b[0m         \u001b[1;32myield\u001b[0m \u001b[0mtop\u001b[0m\u001b[1;33m,\u001b[0m \u001b[0mdirs\u001b[0m\u001b[1;33m,\u001b[0m \u001b[0mnondirs\u001b[0m\u001b[1;33m\u001b[0m\u001b[0m\n",
      "\u001b[1;32m~AppData\\Local\\Continuum\\anaconda3\\lib\\os.py\u001b[0m in \u001b[0;36mwalk\u001b[1;34m(top, topdown, onerror, followlinks)\u001b[0m\n\u001b[0;32m    411\u001b[0m         \u001b[1;31m# Recurse into sub-directories\u001b[0m\u001b[1;33m\u001b[0m\u001b[1;33m\u001b[0m\u001b[0m\n\u001b[0;32m    412\u001b[0m         \u001b[1;32mfor\u001b[0m \u001b[0mnew_path\u001b[0m \u001b[1;32min\u001b[0m \u001b[0mwalk_dirs\u001b[0m\u001b[1;33m:\u001b[0m\u001b[1;33m\u001b[0m\u001b[0m\n\u001b[1;32m--> 413\u001b[1;33m             \u001b[1;32myield\u001b[0m \u001b[1;32mfrom\u001b[0m \u001b[0mwalk\u001b[0m\u001b[1;33m(\u001b[0m\u001b[0mnew_path\u001b[0m\u001b[1;33m,\u001b[0m \u001b[0mtopdown\u001b[0m\u001b[1;33m,\u001b[0m \u001b[0monerror\u001b[0m\u001b[1;33m,\u001b[0m \u001b[0mfollowlinks\u001b[0m\u001b[1;33m)\u001b[0m\u001b[1;33m\u001b[0m\u001b[0m\n\u001b[0m\u001b[0;32m    414\u001b[0m         \u001b[1;31m# Yield after recursion if going bottom up\u001b[0m\u001b[1;33m\u001b[0m\u001b[1;33m\u001b[0m\u001b[0m\n\u001b[0;32m    415\u001b[0m         \u001b[1;32myield\u001b[0m \u001b[0mtop\u001b[0m\u001b[1;33m,\u001b[0m \u001b[0mdirs\u001b[0m\u001b[1;33m,\u001b[0m \u001b[0mnondirs\u001b[0m\u001b[1;33m\u001b[0m\u001b[0m\n",
      "\u001b[1;32m~AppData\\Local\\Continuum\\anaconda3\\lib\\os.py\u001b[0m in \u001b[0;36mwalk\u001b[1;34m(top, topdown, onerror, followlinks)\u001b[0m\n\u001b[0;32m    411\u001b[0m         \u001b[1;31m# Recurse into sub-directories\u001b[0m\u001b[1;33m\u001b[0m\u001b[1;33m\u001b[0m\u001b[0m\n\u001b[0;32m    412\u001b[0m         \u001b[1;32mfor\u001b[0m \u001b[0mnew_path\u001b[0m \u001b[1;32min\u001b[0m \u001b[0mwalk_dirs\u001b[0m\u001b[1;33m:\u001b[0m\u001b[1;33m\u001b[0m\u001b[0m\n\u001b[1;32m--> 413\u001b[1;33m             \u001b[1;32myield\u001b[0m \u001b[1;32mfrom\u001b[0m \u001b[0mwalk\u001b[0m\u001b[1;33m(\u001b[0m\u001b[0mnew_path\u001b[0m\u001b[1;33m,\u001b[0m \u001b[0mtopdown\u001b[0m\u001b[1;33m,\u001b[0m \u001b[0monerror\u001b[0m\u001b[1;33m,\u001b[0m \u001b[0mfollowlinks\u001b[0m\u001b[1;33m)\u001b[0m\u001b[1;33m\u001b[0m\u001b[0m\n\u001b[0m\u001b[0;32m    414\u001b[0m         \u001b[1;31m# Yield after recursion if going bottom up\u001b[0m\u001b[1;33m\u001b[0m\u001b[1;33m\u001b[0m\u001b[0m\n\u001b[0;32m    415\u001b[0m         \u001b[1;32myield\u001b[0m \u001b[0mtop\u001b[0m\u001b[1;33m,\u001b[0m \u001b[0mdirs\u001b[0m\u001b[1;33m,\u001b[0m \u001b[0mnondirs\u001b[0m\u001b[1;33m\u001b[0m\u001b[0m\n",
      "\u001b[1;32m~AppData\\Local\\Continuum\\anaconda3\\lib\\os.py\u001b[0m in \u001b[0;36mwalk\u001b[1;34m(top, topdown, onerror, followlinks)\u001b[0m\n\u001b[0;32m    346\u001b[0m         \u001b[1;31m# Note that scandir is global in this module due\u001b[0m\u001b[1;33m\u001b[0m\u001b[1;33m\u001b[0m\u001b[0m\n\u001b[0;32m    347\u001b[0m         \u001b[1;31m# to earlier import-*.\u001b[0m\u001b[1;33m\u001b[0m\u001b[1;33m\u001b[0m\u001b[0m\n\u001b[1;32m--> 348\u001b[1;33m         \u001b[0mscandir_it\u001b[0m \u001b[1;33m=\u001b[0m \u001b[0mscandir\u001b[0m\u001b[1;33m(\u001b[0m\u001b[0mtop\u001b[0m\u001b[1;33m)\u001b[0m\u001b[1;33m\u001b[0m\u001b[0m\n\u001b[0m\u001b[0;32m    349\u001b[0m     \u001b[1;32mexcept\u001b[0m \u001b[0mOSError\u001b[0m \u001b[1;32mas\u001b[0m \u001b[0merror\u001b[0m\u001b[1;33m:\u001b[0m\u001b[1;33m\u001b[0m\u001b[0m\n\u001b[0;32m    350\u001b[0m         \u001b[1;32mif\u001b[0m \u001b[0monerror\u001b[0m \u001b[1;32mis\u001b[0m \u001b[1;32mnot\u001b[0m \u001b[1;32mNone\u001b[0m\u001b[1;33m:\u001b[0m\u001b[1;33m\u001b[0m\u001b[0m\n",
      "\u001b[1;31mKeyboardInterrupt\u001b[0m: "
     ]
    }
   ],
   "source": [
    "path = r'Z:\\Reclamation'\n",
    "os.chdir(path)\n",
    "with open('result.md','w',encoding=encoding) as f:\n",
    "    f.write('|ID|filename|useful|remarks|lengh|\\n' + \n",
    "             '|--|--------|------|-------|----|\\n')\n",
    "    count = 0\n",
    "    fcount = 0\n",
    "    for root, dirs, files in os.walk(path, topdown=False):\n",
    "        fcount = fcount +1\n",
    "        string = 'File searched = {} : File found = {}'.format(fcount,count)\n",
    "        print(string,end=\"\\r\")\n",
    "        results = [x for x in files if x.endswith('mp4') or \n",
    "                   x.endswith('MOV') or\n",
    "                   x.endswith('mov') or\n",
    "                   x.endswith('avi') or \n",
    "                   x.endswith('MPG') or \n",
    "                   x.endswith('MTS') or \n",
    "                   x.endswith('VOB')]\n",
    "        if (len(results)>0):\n",
    "            for video in results:\n",
    "                if float(os.path.getsize(os.path.join(root,video))/1048576)>100:\n",
    "                    root_md = root.replace(\"(\",\"%28\")\n",
    "                    root_md = root_md.replace(\")\",\"%29\")\n",
    "                    string = '|{}|[{}]({})|\\'{}\\'|{:.2f}M|\\n'.format(count,video,os.path.join(root_md,video),root.replace(\"\\\\\",'_'),\n",
    "                                                            float(os.path.getsize(os.path.join(root,video))/1048576))\n",
    "                    count = count +1\n",
    "                    f.write(string)"
   ]
  },
  {
   "cell_type": "code",
   "execution_count": null,
   "metadata": {},
   "outputs": [],
   "source": [
    "path = r'Z:\\Seawall'\n",
    "os.chdir(path)\n",
    "with open('result.md','w',encoding=encoding) as f:\n",
    "    f.write('|ID|filename|useful|remarks|lengh|\\n' + \n",
    "             '|--|--------|------|-------|----|\\n')\n",
    "    count = 0\n",
    "    fcount = 0\n",
    "    for root, dirs, files in os.walk(path, topdown=False):\n",
    "        fcount = fcount +1\n",
    "        string = 'File searched = {} : File found = {}'.format(fcount,count)\n",
    "        print(string,end=\"\\r\")\n",
    "        results = [x for x in files if x.endswith('mp4') or \n",
    "                   x.endswith('MOV') or\n",
    "                   x.endswith('mov') or\n",
    "                   x.endswith('avi') or \n",
    "                   x.endswith('MPG') or \n",
    "                   x.endswith('MTS') or \n",
    "                   x.endswith('VOB')]\n",
    "        if (len(results)>0):\n",
    "            for video in results:\n",
    "                if float(os.path.getsize(os.path.join(root,video))/1048576)>100:\n",
    "                    root_md = root.replace(\"(\",\"%28\")\n",
    "                    root_md = root_md.replace(\")\",\"%29\")\n",
    "                    string = '|{}|[{}]({})|\\'{}\\'|{:.2f}M|\\n'.format(count,video,os.path.join(root_md,video),root.replace(\"\\\\\",'_'),\n",
    "                                                            float(os.path.getsize(os.path.join(root,video))/1048576))\n",
    "                    count = count +1\n",
    "                    f.write(string)"
   ]
  },
  {
   "cell_type": "code",
   "execution_count": null,
   "metadata": {},
   "outputs": [],
   "source": []
  }
 ],
 "metadata": {
  "kernelspec": {
   "display_name": "Python 3",
   "language": "python",
   "name": "python3"
  },
  "language_info": {
   "codemirror_mode": {
    "name": "ipython",
    "version": 3
   },
   "file_extension": ".py",
   "mimetype": "text/x-python",
   "name": "python",
   "nbconvert_exporter": "python",
   "pygments_lexer": "ipython3",
   "version": "3.6.5"
  }
 },
 "nbformat": 4,
 "nbformat_minor": 2
}
